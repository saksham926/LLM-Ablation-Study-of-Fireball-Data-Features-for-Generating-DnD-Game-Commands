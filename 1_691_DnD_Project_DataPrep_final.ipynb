{
 "cells": [
  {
   "cell_type": "markdown",
   "id": "5873c171",
   "metadata": {},
   "source": [
    "## CMSC Interactive Fiction Storytelling - DnD Project \n",
    "### LLM TO DETECTION PLAYER INTENT BASED ON PLAYER NARRATIVES AND GAME STATE\n",
    "#### Team Members, Arya Honraopatil, Saksham Kumar Sharma, and Patty Delafuente  \n",
    "\n",
    "Our first step is to pull in the Fireball Dataset https://huggingface.co/datasets/lara-martin/FIREBALL that we will use for model training.  This dataset contains actual game play data from players playing a text based DnD game in Discord by way of the AVRAE DnD Discord Bot https://avrae.io/.    \n",
    "\n",
    "The dataset is about 7gb. "
   ]
  },
  {
   "cell_type": "markdown",
   "id": "efc862df",
   "metadata": {},
   "source": [
    "The below cells show all the functions that are required to preprocess the dataset. First the libraries are installed and imported after that a list of functions are added filter_rows, split_dataset, get_dndname, replacing_players_with_names, and preprocess_function.\n",
    "\n",
    "The required libraries are installed and imported which will help us to preprocess the dataset."
   ]
  },
  {
   "cell_type": "code",
   "execution_count": 8,
   "id": "31f0d155",
   "metadata": {
    "tags": []
   },
   "outputs": [],
   "source": [
    "#!pip install datasets\n",
    "#!pip install jsonlines\n",
    "import pandas as pd\n",
    "import numpy as np\n",
    "from sklearn.model_selection import train_test_split\n",
    "from datasets import load_dataset, Audio\n",
    "from sklearn.model_selection import train_test_split\n"
   ]
  },
  {
   "cell_type": "markdown",
   "id": "9acc6d32",
   "metadata": {},
   "source": [
    "The filter_rows function is used to filter the rows which have nothing in their 'before_utterances' column. The code logic simply calculates the length of the string present in the rows of 'before_utterances' column. Then it filters out that dataframe where the rows of 'before_utterances' column have string of length>0. This is done so that to give good quality data to our model, as before_utterances is important for us to get the last conversation before a particular point."
   ]
  },
  {
   "cell_type": "code",
   "execution_count": 9,
   "id": "a9a641ec",
   "metadata": {
    "tags": []
   },
   "outputs": [],
   "source": [
    "def filter_rows(df, column):\n",
    "    print(f\"Rows before filtering: {len(df)}\")\n",
    "    # Filter rows where the length of the string in the specified column is greater than 0\n",
    "    filtered_df = df[df[column].str.len() > 0].reset_index(drop=True)\n",
    "    print(f\"Rows after filtering: {len(filtered_df)}\")\n",
    "    return filtered_df"
   ]
  },
  {
   "cell_type": "markdown",
   "id": "0a8ff323",
   "metadata": {},
   "source": [
    "The split_dataset function is used to split the dataset into training, testing and validation functions. Here sklearn train_test_split library is utilized. This is done to ensure that our training dataset for model training is different than the testing and validation data. This gives us surity about the model's prediction when some unseen data is thrown at it."
   ]
  },
  {
   "cell_type": "code",
   "execution_count": 10,
   "id": "dfff06bd",
   "metadata": {
    "tags": []
   },
   "outputs": [],
   "source": [
    "def split_dataset(df, train_size=0.6, test_size=0.2, val_size=0.2):\n",
    "    assert train_size + test_size + val_size == 1, \"Train, test, and validation sizes must sum to 1.\"\n",
    "    train_df, temp_df = train_test_split(df, test_size=(1 - train_size), random_state=42,shuffle=True)\n",
    "    test_df, val_df = train_test_split(temp_df, test_size=val_size/(test_size + val_size), random_state=42,shuffle=True)\n",
    "    print(f\"Number of rows in the Train set: {len(train_df)}\")\n",
    "    print(f\"Number of rows in the Test set: {len(test_df)}\")\n",
    "    print(f\"Number of rows in the Validation set: {len(val_df)}\")    \n",
    "    return train_df, test_df, val_df"
   ]
  },
  {
   "cell_type": "markdown",
   "id": "5f6f45b1",
   "metadata": {},
   "source": [
    "Mapping is being done in get_dndname function with a generic player identifier and the player name by referring to the index position in the list of combat_state. So identifier are being made like \"Player 0\", \"Player 1\"  and then a condition is checked to check if they match with the name. So if we are able to find a match then the name of the player is returned. So this function is used to replace \"Player 1\", \"Player 0\" with the original names. This is necessary as 'utterance_history' has utterances references with \"Player 0\", \"Player 0\" etc. This is a helper function for 'replacing_players_with_names' function."
   ]
  },
  {
   "cell_type": "code",
   "execution_count": 11,
   "id": "a73f8f27",
   "metadata": {
    "tags": []
   },
   "outputs": [],
   "source": [
    "def get_dndname(name,combat_state):\n",
    "    cstate = combat_state\n",
    "    index = 0\n",
    "    for item in cstate:\n",
    "        strname = 'Player ' + str(index)\n",
    "        if strname == name:\n",
    "            return item ['name']\n",
    "        else:\n",
    "            index = index + 1"
   ]
  },
  {
   "cell_type": "markdown",
   "id": "681ae8ae",
   "metadata": {},
   "source": [
    "This 'replacing_players_with_names' function is used to split by ':' the 'utterance_history', so that the text after player number can be extracted and joined with the name extracted from the get_dndname. Afterwards, its stored in result list. This is done so that our dataset 'utterance_history' column can be modified."
   ]
  },
  {
   "cell_type": "code",
   "execution_count": 12,
   "id": "03548214",
   "metadata": {
    "tags": []
   },
   "outputs": [],
   "source": [
    "def replacing_players_with_names(dataset):\n",
    "    final_column=[]\n",
    "    for rowindex in range(len(dataset['combat_state_before'])):\n",
    "      combat_state = dataset['combat_state_before'][rowindex]\n",
    "      utter_hx = dataset['utterance_history'][rowindex]\n",
    "      split_utterances = []\n",
    "      for utterance in utter_hx:\n",
    "          if ':' in utterance:\n",
    "              name, text = utterance.split(':', 1)\n",
    "              split_utterances.append((name.strip(), text.strip()))\n",
    "          else:\n",
    "              split_utterances.append((utterance.strip(), ''))\n",
    "      result=[]\n",
    "      for name, text in split_utterances:\n",
    "          combat_name = get_dndname(name,combat_state)\n",
    "          result.append(str(combat_name)+\": \"+text)\n",
    "      final_column.append(result)\n",
    "    dataset['utterance_history']=final_column\n",
    "    return dataset\n",
    "\n"
   ]
  },
  {
   "cell_type": "markdown",
   "id": "ae0c9a00",
   "metadata": {},
   "source": [
    "So this 'preprocess_function' is the heart of our program which loads the dataset and call multiple functions and then returns the training, testing and validation datasets for further analysis. We just have to call the preprocess_function to make the program run smoothly. This function is necessary because we need to divide the dataset into train, test, and validation splits. "
   ]
  },
  {
   "cell_type": "code",
   "execution_count": 13,
   "id": "d7b3a7cc",
   "metadata": {
    "tags": []
   },
   "outputs": [],
   "source": [
    "def preprocess_function():\n",
    "    dataset = load_dataset(\"lara-martin/FIREBALL\")\n",
    "    # Access the 'train' dataset\n",
    "    train_dataset = dataset['train']\n",
    "    # Convert the dataset to a pandas DataFrame\n",
    "    train_df = train_dataset.to_pandas()\n",
    "    filtered_df = filter_rows(train_df, 'before_utterances')  # Drop rows where 'before_utterances' is empty\n",
    "    filtered_df = replacing_players_with_names(filtered_df)\n",
    "    train_df, test_df, val_df = split_dataset(filtered_df)  # This train_df, test_df, val_df are the resulting dataset after split\n",
    "    \n",
    "    train_df=train_df[['before_utterances','combat_state_before','current_actor', 'utterance_history','commands_norm']]\n",
    "    train_df = train_df.reset_index(drop=True)\n",
    "    train_label=train_df[['commands_norm']]\n",
    "    train_df.drop(['commands_norm'], axis=1)\n",
    "\n",
    "    test_df=test_df[['before_utterances','combat_state_before','current_actor', 'utterance_history','commands_norm']]\n",
    "    test_df = test_df.reset_index(drop=True)\n",
    "    test_label=test_df[['commands_norm']]\n",
    "    test_df.drop(['commands_norm'], axis=1)\n",
    "\n",
    "    val_df=val_df[['before_utterances','combat_state_before','current_actor', 'utterance_history','commands_norm']]\n",
    "    val_df = val_df.reset_index(drop=True)\n",
    "    val_label=val_df[['commands_norm']]\n",
    "    val_df.drop(['commands_norm'], axis=1)\n",
    "    return train_df,train_label, test_df, test_label, val_df, val_label"
   ]
  },
  {
   "cell_type": "markdown",
   "id": "d63714b5",
   "metadata": {},
   "source": [
    "By calling the below command we get an idea of how many rows are deleted from the dataset, and how many rows of the dataset are given to training, testing and validation sets. So as we can see total 33432 rows are removed from the dataset. Only those rows are removed which have nothing in 'before_utterances' column."
   ]
  },
  {
   "cell_type": "markdown",
   "id": "d957be48",
   "metadata": {},
   "source": [
    "Running the command to process the data in the below cell. We just have to call the below function to get the training data, training labels, testing data, testing labels, validation data, validation labels.\n"
   ]
  },
  {
   "cell_type": "code",
   "execution_count": 14,
   "id": "e772b074",
   "metadata": {
    "tags": []
   },
   "outputs": [
    {
     "name": "stdout",
     "output_type": "stream",
     "text": [
      "Rows before filtering: 153829\n",
      "Rows after filtering: 120397\n",
      "Number of rows in the Train set: 72238\n",
      "Number of rows in the Test set: 24079\n",
      "Number of rows in the Validation set: 24080\n"
     ]
    }
   ],
   "source": [
    "train_data, train_label, test_data, test_label,validation_data, validation_label=preprocess_function()\n"
   ]
  },
  {
   "cell_type": "code",
   "execution_count": 15,
   "id": "aae540f9",
   "metadata": {
    "tags": []
   },
   "outputs": [
    {
     "data": {
      "text/html": [
       "<div>\n",
       "<style scoped>\n",
       "    .dataframe tbody tr th:only-of-type {\n",
       "        vertical-align: middle;\n",
       "    }\n",
       "\n",
       "    .dataframe tbody tr th {\n",
       "        vertical-align: top;\n",
       "    }\n",
       "\n",
       "    .dataframe thead th {\n",
       "        text-align: right;\n",
       "    }\n",
       "</style>\n",
       "<table border=\"1\" class=\"dataframe\">\n",
       "  <thead>\n",
       "    <tr style=\"text-align: right;\">\n",
       "      <th></th>\n",
       "      <th>before_utterances</th>\n",
       "      <th>combat_state_before</th>\n",
       "      <th>current_actor</th>\n",
       "      <th>utterance_history</th>\n",
       "      <th>commands_norm</th>\n",
       "    </tr>\n",
       "  </thead>\n",
       "  <tbody>\n",
       "    <tr>\n",
       "      <th>0</th>\n",
       "      <td>[\"We can't let you have that.\"]</td>\n",
       "      <td>[{'name': 'Aratak', 'hp': '&lt;244/244 HP; Health...</td>\n",
       "      <td>{'name': 'Kain Heisenberg', 'hp': '&lt;418/418 HP...</td>\n",
       "      <td>[Snips: With a loud sigh, it takes out a knife...</td>\n",
       "      <td>['!cast bless -t aratak -t snips -t agent -t k...</td>\n",
       "    </tr>\n",
       "    <tr>\n",
       "      <th>1</th>\n",
       "      <td>[can he pick it up as a free action?)]</td>\n",
       "      <td>[{'name': 'Cerberus', 'hp': '&lt;74/84 HP; Injure...</td>\n",
       "      <td>{'name': 'SG3', 'hp': '&lt;143/152 HP; Injured&gt;',...</td>\n",
       "      <td>[lair: did u giants might as ur ready action, ...</td>\n",
       "      <td>['!i a fist -rr 2 -t SGq1']</td>\n",
       "    </tr>\n",
       "    <tr>\n",
       "      <th>2</th>\n",
       "      <td>[I'll allow the damage to be transferred though.]</td>\n",
       "      <td>[{'name': 'Kyle Ravendust', 'hp': '&lt;36/50 HP; ...</td>\n",
       "      <td>{'name': 'Ole Goldenforge', 'hp': '&lt;45/45 HP; ...</td>\n",
       "      <td>[Ota: I'll pilot him if he's not back., Ota: *...</td>\n",
       "      <td>['!i a spirit -t FT1']</td>\n",
       "    </tr>\n",
       "    <tr>\n",
       "      <th>3</th>\n",
       "      <td>[using BA to have defender attack]</td>\n",
       "      <td>[{'name': 'Kahlee', 'hp': '&lt;72/72 HP; Healthy&gt;...</td>\n",
       "      <td>{'name': 'Ph's Battle Smith ', 'hp': '', 'clas...</td>\n",
       "      <td>[Phillip: Oh! That's awesome! She's gonna have...</td>\n",
       "      <td>['!a rend -t kahlee']</td>\n",
       "    </tr>\n",
       "    <tr>\n",
       "      <th>4</th>\n",
       "      <td>[*Thinks for advice and oeeks at the box all t...</td>\n",
       "      <td>[{'name': 'The Jester', 'hp': '&lt;43/43 HP; Heal...</td>\n",
       "      <td>{'name': 'Kallahan Adrastia', 'hp': '&lt;164/164 ...</td>\n",
       "      <td>[None: _Ah shit....Hes killing the weakest one...</td>\n",
       "      <td>['!a ace -t jester -d 2d8[fire] -d 10 -b -5 -f...</td>\n",
       "    </tr>\n",
       "  </tbody>\n",
       "</table>\n",
       "</div>"
      ],
      "text/plain": [
       "                                   before_utterances  \\\n",
       "0                    [\"We can't let you have that.\"]   \n",
       "1             [can he pick it up as a free action?)]   \n",
       "2  [I'll allow the damage to be transferred though.]   \n",
       "3                 [using BA to have defender attack]   \n",
       "4  [*Thinks for advice and oeeks at the box all t...   \n",
       "\n",
       "                                 combat_state_before  \\\n",
       "0  [{'name': 'Aratak', 'hp': '<244/244 HP; Health...   \n",
       "1  [{'name': 'Cerberus', 'hp': '<74/84 HP; Injure...   \n",
       "2  [{'name': 'Kyle Ravendust', 'hp': '<36/50 HP; ...   \n",
       "3  [{'name': 'Kahlee', 'hp': '<72/72 HP; Healthy>...   \n",
       "4  [{'name': 'The Jester', 'hp': '<43/43 HP; Heal...   \n",
       "\n",
       "                                       current_actor  \\\n",
       "0  {'name': 'Kain Heisenberg', 'hp': '<418/418 HP...   \n",
       "1  {'name': 'SG3', 'hp': '<143/152 HP; Injured>',...   \n",
       "2  {'name': 'Ole Goldenforge', 'hp': '<45/45 HP; ...   \n",
       "3  {'name': 'Ph's Battle Smith ', 'hp': '', 'clas...   \n",
       "4  {'name': 'Kallahan Adrastia', 'hp': '<164/164 ...   \n",
       "\n",
       "                                   utterance_history  \\\n",
       "0  [Snips: With a loud sigh, it takes out a knife...   \n",
       "1  [lair: did u giants might as ur ready action, ...   \n",
       "2  [Ota: I'll pilot him if he's not back., Ota: *...   \n",
       "3  [Phillip: Oh! That's awesome! She's gonna have...   \n",
       "4  [None: _Ah shit....Hes killing the weakest one...   \n",
       "\n",
       "                                       commands_norm  \n",
       "0  ['!cast bless -t aratak -t snips -t agent -t k...  \n",
       "1                        ['!i a fist -rr 2 -t SGq1']  \n",
       "2                             ['!i a spirit -t FT1']  \n",
       "3                              ['!a rend -t kahlee']  \n",
       "4  ['!a ace -t jester -d 2d8[fire] -d 10 -b -5 -f...  "
      ]
     },
     "execution_count": 15,
     "metadata": {},
     "output_type": "execute_result"
    }
   ],
   "source": [
    "train_data.head()"
   ]
  },
  {
   "cell_type": "raw",
   "id": "f4f0d4bc-d39b-4d88-af9e-1c63bc03c676",
   "metadata": {
    "tags": []
   },
   "source": [
    "\n",
    "inputstr = \"You are a game agent in a DnD game. You will be provided with the current player, game  state and the in game player utterance.  You task is to predict what action, attack or spell the play intends. Then provide the AVRAE command that will iniate the players intention in a discord DnD game. Return the avrae command. Here is the game state. current player: {'actions': None, 'attacks': 'Crossbow, heavy (Thrushrach), Shortsword (Thrushrach), Shortsword2 (Thrushrach), Unarmed Strike (Thrushrach), Bite (Thrushrach), Bite (Edna)', 'class': None, 'controller_id': '0', 'description': None, 'effects': '', 'hp': '', 'name': \"Th's Ranger \", 'race': 'Group', 'spells': ''}, game state: [{'actions': 'Hungry Jaws, Drake Companion, Drake Companion: Command, Crossbow Expert Attack, Drake Companion: Summon, Primeval Awareness', 'attacks': 'Crossbow, heavy, Shortsword, Shortsword2, Unarmed Strike, Bite', 'class': 'Ranger 4', 'controller_id': '211023311098160087', 'description': None, 'effects': '', 'hp': '<32/32 HP; Healthy>', 'name': 'Thrushrach', 'race': 'Lizardfolk', 'spells': \"Animal Friendship, Hunter's Mark, Thaumaturgy, Speak with Animals\"}, {'actions': None, 'attacks': 'Bite', 'class': None, 'controller_id': '211023311098160087', 'description': None, 'effects': 'Bite', 'hp': '<25/25 HP; Healthy>', 'name': 'Edna', 'race': 'Drake Companion P2', 'spells': ''}, {'actions': 'Disarming Shot, Adept Marksman, Action Surge, Extra Attack, Violent Shot, Indomitable, Gunner, Deadeye Shot, Second Wind, Lucky', 'attacks': 'map, Pistol, Automatic, Pistol, Automatic2, Revolver, Shortsword, Unarmed Strike', 'class': 'Fighter 9', 'controller_id': '303160112743260203', 'description': None, 'effects': 'map', 'hp': '<85/85 HP; Healthy>', 'name': 'Cayde the 6th', 'race': 'Warforged', 'spells': ''}, {'actions': \"Relentless Endurance, Martial Adept, Maneuvers: Evasive Footwork, Runic Shield, Action Surge, Cloud Rune, Extra Attack, Frost Rune, Indomitable, Storm Rune, Maneuvers: Parry, Giant's Might, Second Wind\", 'attacks': 'Longbow, Warhammer +1, 2-Handed Warhammer +1, Unarmed Strike', 'class': 'Fighter 9', 'controller_id': '331427928050958624', 'description': '', 'effects': '', 'hp': '<94/94 HP; Healthy>', 'name': 'Nora Storm-child', 'race': 'Half-Orc', 'spells': ''}, {'actions': 'Infuse Item, Shapechange, Infiltrator Armor: Lightning Launcher (DEX), The Right Tool for the Job, Lightning Launcher, Arcane Armor - Create Armor, Magical Tinkering', 'attacks': 'Crossbow, light, Dagger, Rapier, Unarmed Strike, Infiltrator Armor: Lightning Launcher (DEX)', 'class': 'Artificer 4', 'controller_id': '211124537472256440', 'description': None, 'effects': '', 'hp': '<35/35 HP; Healthy>', 'name': 'Echo', 'race': 'Changeling', 'spells': \"Tasha's Caustic Brew, Thunderwave, Identify, Catapult, Grease, Purify Food and Drink, Magic Missile, Booming Blade, Detect Magic, Cure Wounds, Fire Bolt\"}, {'actions': 'Action Surge, Second Wind, Cloud Rune, Fire Rune', 'attacks': 'Longbow, Dragon Tooth, Handaxe, Handaxe2', 'class': 'Fighter 3', 'controller_id': '136503232070997789', 'description': '', 'effects': '', 'hp': '<37/37 HP; Healthy>', 'name': 'Skaði', 'race': 'Valkyrie', 'spells': ''}, {'actions': 'Rage, Divine Fury, Blood Curse of the Fallen Puppet (Amplified), Blood Curse of the Fallen Puppet', 'attacks': 'Divine Fury, Crimson Blade, Alternate Side', 'class': 'Barbarian  5/Blood Hunter 1', 'controller_id': '336156382909357813', 'description': '', 'effects': '', 'hp': '<83/83 HP; Healthy>', 'name': 'Ashildr', 'race': 'Half Elf', 'spells': ''}, {'actions': None, 'attacks': 'Spectral Longbow, Horrifying Visage, Wail', 'class': None, 'controller_id': '207027692360152249', 'description': None, 'effects': 'Wail Used', 'hp': '<58/58 HP; Healthy>', 'name': 'LB1', 'race': 'Lonelywood Banshee', 'spells': ''}], utterances: [\"(at lest you didn't aim at my drake xD\", \"You didn't tell the party members ahead of time)\", 'And you need to make death saving throws', 'Can i attack now >_> )', 'You can use action to check the body though']\"\n",
    "stroutput = \"['!a crossbow -t lb1']\"\n",
    "\n",
    "dnd = {}\n",
    "dnd['input'] = inputstr\n",
    "dnd['output'] = stroutput\n",
    "#print(dnd)\n",
    "\n",
    "\n"
   ]
  },
  {
   "cell_type": "code",
   "execution_count": null,
   "id": "979cfcd3-1b30-4c1a-a4a6-b5f666392832",
   "metadata": {},
   "outputs": [],
   "source": [
    "#need to get the fireball dataset into training format\n",
    "\n",
    "{\"input\": \"You are a game agent in a DnD game. You will be provided with the current player, game \"   state and the in game player utterance.  You task is to predict what action, attack or spell the play intends. Then provide the AVRAE command that will iniate the players intention in a discord DnD game. Return the avrae command. Here is the game state. current player: {'actions': None, 'attacks': 'Crossbow, heavy (Thrushrach), Shortsword (Thrushrach), Shortsword2 (Thrushrach), Unarmed Strike (Thrushrach), Bite (Thrushrach), Bite (Edna)', 'class': None, 'controller_id': '0', 'description': None, 'effects': '', 'hp': '', 'name': \"Th's Ranger \", 'race': 'Group', 'spells': ''}, game state: [{'actions': 'Hungry Jaws, Drake Companion, Drake Companion: Command, Crossbow Expert Attack, Drake Companion: Summon, Primeval Awareness', 'attacks': 'Crossbow, heavy, Shortsword, Shortsword2, Unarmed Strike, Bite', 'class': 'Ranger 4', 'controller_id': '211023311098160087', 'description': None, 'effects': '', 'hp': '<32/32 HP; Healthy>', 'name': 'Thrushrach', 'race': 'Lizardfolk', 'spells': \"Animal Friendship, Hunter's Mark, Thaumaturgy, Speak with Animals\"}, {'actions': None, 'attacks': 'Bite', 'class': None, 'controller_id': '211023311098160087', 'description': None, 'effects': 'Bite', 'hp': '<25/25 HP; Healthy>', 'name': 'Edna', 'race': 'Drake Companion P2', 'spells': ''}, {'actions': 'Disarming Shot, Adept Marksman, Action Surge, Extra Attack, Violent Shot, Indomitable, Gunner, Deadeye Shot, Second Wind, Lucky', 'attacks': 'map, Pistol, Automatic, Pistol, Automatic2, Revolver, Shortsword, Unarmed Strike', 'class': 'Fighter 9', 'controller_id': '303160112743260203', 'description': None, 'effects': 'map', 'hp': '<85/85 HP; Healthy>', 'name': 'Cayde the 6th', 'race': 'Warforged', 'spells': ''}, {'actions': \"Relentless Endurance, Martial Adept, Maneuvers: Evasive Footwork, Runic Shield, Action Surge, Cloud Rune, Extra Attack, Frost Rune, Indomitable, Storm Rune, Maneuvers: Parry, Giant's Might, Second Wind\", 'attacks': 'Longbow, Warhammer +1, 2-Handed Warhammer +1, Unarmed Strike', 'class': 'Fighter 9', 'controller_id': '331427928050958624', 'description': '', 'effects': '', 'hp': '<94/94 HP; Healthy>', 'name': 'Nora Storm-child', 'race': 'Half-Orc', 'spells': ''}, {'actions': 'Infuse Item, Shapechange, Infiltrator Armor: Lightning Launcher (DEX), The Right Tool for the Job, Lightning Launcher, Arcane Armor - Create Armor, Magical Tinkering', 'attacks': 'Crossbow, light, Dagger, Rapier, Unarmed Strike, Infiltrator Armor: Lightning Launcher (DEX)', 'class': 'Artificer 4', 'controller_id': '211124537472256440', 'description': None, 'effects': '', 'hp': '<35/35 HP; Healthy>', 'name': 'Echo', 'race': 'Changeling', 'spells': \"Tasha's Caustic Brew, Thunderwave, Identify, Catapult, Grease, Purify Food and Drink, Magic Missile, Booming Blade, Detect Magic, Cure Wounds, Fire Bolt\"}, {'actions': 'Action Surge, Second Wind, Cloud Rune, Fire Rune', 'attacks': 'Longbow, Dragon Tooth, Handaxe, Handaxe2', 'class': 'Fighter 3', 'controller_id': '136503232070997789', 'description': '', 'effects': '', 'hp': '<37/37 HP; Healthy>', 'name': 'Skaði', 'race': 'Valkyrie', 'spells': ''}, {'actions': 'Rage, Divine Fury, Blood Curse of the Fallen Puppet (Amplified), Blood Curse of the Fallen Puppet', 'attacks': 'Divine Fury, Crimson Blade, Alternate Side', 'class': 'Barbarian  5/Blood Hunter 1', 'controller_id': '336156382909357813', 'description': '', 'effects': '', 'hp': '<83/83 HP; Healthy>', 'name': 'Ashildr', 'race': 'Half Elf', 'spells': ''}, {'actions': None, 'attacks': 'Spectral Longbow, Horrifying Visage, Wail', 'class': None, 'controller_id': '207027692360152249', 'description': None, 'effects': 'Wail Used', 'hp': '<58/58 HP; Healthy>', 'name': 'LB1', 'race': 'Lonelywood Banshee', 'spells': ''}], utterances: [\"(at lest you didn't aim at my drake xD\", \"You didn't tell the party members ahead of time)\", 'And you need to make death saving throws', 'Can i attack now >_> )', 'You can use action to check the body though'],\n",
    " \"output\": ['!a crossbow -t lb1']}"
   ]
  },
  {
   "cell_type": "code",
   "execution_count": 12,
   "id": "7f7f98c9-4b9d-46c6-9016-9b7e746ac5cd",
   "metadata": {
    "tags": []
   },
   "outputs": [],
   "source": [
    "from datasets import Dataset\n",
    "train_dataset = Dataset.from_pandas(train_data)"
   ]
  },
  {
   "cell_type": "code",
   "execution_count": 10,
   "id": "c2564db1-ecb7-4abb-b2de-33fb56c25dae",
   "metadata": {
    "tags": []
   },
   "outputs": [
    {
     "name": "stdout",
     "output_type": "stream",
     "text": [
      "{'before_utterances': [\"*Kelrick and Oli you see the second Dire Wolf make its way out of the woods to the north it looks like it's about to jump the palisade*\"], 'combat_state_before': [{'actions': 'Ki Points, Step of the Wind (Disengage), Fey Step, Unarmed Strike, Flurry of Blows, Step of the Wind (Dash), Patient Defense', 'attacks': 'Dart, Shortsword, Unarmed Strike, Unarmed Strike2', 'class': 'Monk 2', 'controller_id': '336032536808857706', 'description': None, 'effects': '', 'hp': '<15/15 HP; Healthy>', 'name': 'Ereykos Nailo', 'race': 'Eladrin (HB)', 'spells': ''}, {'actions': 'Tentacle of the Deeps: Move, Armor of Shadows, Create Pact Weapon, Tentacle of the Deeps: Attack, Tentacle of the Deeps: Summon, Mask of Many Faces, Chameleon Carapace (Change Color)', 'attacks': 'Tentacle of the Deep, Dagger, Dagger2, Greatclub, Quarterstaff, 2-Handed Quarterstaff, Rapier, Unarmed Strike, Tentacle of the Deeps: Attack', 'class': 'Warlock 4', 'controller_id': '224874611243730608', 'description': None, 'effects': 'Mage Armor, Tentacle of the Deep', 'hp': '<31/31 HP; Healthy>', 'name': 'Deep Blue', 'race': 'Thri-kreen', 'spells': 'Eldritch Blast, Armor of Agathys, Mage Armor, Hex, Witch Bolt, Booming Blade, Disguise Self'}, {'actions': None, 'attacks': 'Bite', 'class': None, 'controller_id': '387244872856457358', 'description': None, 'effects': '', 'hp': '<11/11 HP; Healthy>', 'name': 'WO1', 'race': 'Wolf', 'spells': ''}, {'actions': 'The Right Tool for the Job, Share Spells, Mend Mech, Infuse Item, Command Mech, Command Mech to Repair, Magical Tinkering', 'attacks': 'Crossbow, light, Light Hammer, Spear, 2-Handed Spear, Unarmed Strike, Crackling Leap', 'class': 'Artificer 3', 'controller_id': '178818952437053304', 'description': None, 'effects': '', 'hp': '<27/27 HP; Healthy>', 'name': 'Oli Rabbet', 'race': 'Owlin', 'spells': 'Sanctuary, Detect Magic, Absorb Elements, Thorn Whip, Cure Wounds, Crackling Leap (AJ coding), Shield, Mending, Prestidigitation, Burning Hands'}, {'actions': None, 'attacks': 'Warpick, Unarmed', 'class': None, 'controller_id': '178818952437053304', 'description': None, 'effects': '', 'hp': '<19/19 HP; Healthy>', 'name': 'Artemis', 'race': 'Artemis', 'spells': ''}, {'actions': None, 'attacks': 'Bite', 'class': None, 'controller_id': '387244872856457358', 'description': None, 'effects': '', 'hp': '<37/37 HP; Healthy>', 'name': 'DW1', 'race': 'Dire Wolf', 'spells': ''}, {'actions': 'Ki Points, Ki-Fueled Attack, Step of the Wind (Disengage), Breath Weapon (Necrotic), Deflect Missiles, Psionic Mind, Deflect Missiles Attack, Flurry of Blows, Step of the Wind (Dash), Patient Defense, Unarmed Strike', 'attacks': 'Dart, Dart2, Rapier, Unarmed Strike, Unarmed Strike2', 'class': 'Monk 3', 'controller_id': '176588704091156599', 'description': None, 'effects': '', 'hp': '<21/21 HP; Healthy>', 'name': 'Karliah', 'race': 'Gem Dragonborn', 'spells': ''}, {'actions': 'Vigilant Blessing, Eyes of Night, Channel Divinity, Channel Divinity: Twilight Sanctuary, Harness Divine Power, Channel Divinity: Turn Undead', 'attacks': 'Twilight Aid, Spiritual Weapon, Crossbow, light, Mace, Unarmed Strike', 'class': 'Cleric 3', 'controller_id': '608038442466234339', 'description': None, 'effects': 'Twilight Sanctuary, Spiritual Weapon', 'hp': '<30/30 HP; Healthy>', 'name': 'Kelrick', 'race': 'Hill Dwarf', 'spells': 'Sanctuary, Detect Magic, Healing Word, Lesser Restoration, Guidance, Bless, Moonbeam, Sacred Flame, Word of Radiance, Faerie Fire, Sleep, Aid, Spiritual Weapon, See Invisibility'}, {'actions': None, 'attacks': 'Bite', 'class': None, 'controller_id': '387244872856457358', 'description': None, 'effects': '', 'hp': '<27/37 HP; Injured>', 'name': 'DW2', 'race': 'Dire Wolf', 'spells': ''}, {'actions': None, 'attacks': 'Bite', 'class': None, 'controller_id': '387244872856457358', 'description': None, 'effects': '', 'hp': '<11/11 HP; Healthy>', 'name': 'WO6', 'race': 'Wolf', 'spells': ''}, {'actions': None, 'attacks': 'Bite', 'class': None, 'controller_id': '387244872856457358', 'description': None, 'effects': '', 'hp': '<7/11 HP; Injured>', 'name': 'WO2', 'race': 'Wolf', 'spells': ''}, {'actions': None, 'attacks': 'Bite', 'class': None, 'controller_id': '387244872856457358', 'description': None, 'effects': '', 'hp': '<9/11 HP; Injured>', 'name': 'WO7', 'race': 'Wolf', 'spells': ''}, {'actions': 'Ki Points, Step of the Wind (Disengage), Deflect Missiles, Draconic Presence, Step of the Wind (Dash), Psionic Mind, Deflect Missiles Attack, Flurry of Blows, Breath of the Dragon, Patient Defense, Draconic Strike, Breath Weapon (Force), Unarmed Strike', 'attacks': 'Dart, Dart2, Quarterstaff, 2-Handed Quarterstaff, Quarterstaff2, 2-Handed Quarterstaff2, Unarmed Strike, Draconic Strike, Unarmed Strike2', 'class': 'Monk 3', 'controller_id': '474355443414579023', 'description': None, 'effects': '', 'hp': '<21/21 HP; Healthy>', 'name': 'Mehrunes Calitryl Talrik', 'race': 'Gem Dragonborn', 'spells': ''}, {'actions': None, 'attacks': 'Bite', 'class': None, 'controller_id': '387244872856457358', 'description': None, 'effects': '', 'hp': '<9/11 HP; Injured>', 'name': 'WO8', 'race': 'Wolf', 'spells': ''}], 'current_actor': {'actions': 'Ki Points, Ki-Fueled Attack, Step of the Wind (Disengage), Breath Weapon (Necrotic), Deflect Missiles, Psionic Mind, Deflect Missiles Attack, Flurry of Blows, Step of the Wind (Dash), Patient Defense, Unarmed Strike', 'attacks': 'Dart, Dart2, Rapier, Unarmed Strike, Unarmed Strike2', 'class': 'Monk 3', 'controller_id': '176588704091156599', 'description': None, 'effects': '', 'hp': '<21/21 HP; Healthy>', 'name': 'Karliah', 'race': 'Gem Dragonborn', 'spells': ''}, 'utterance_history': ['WO8: I know Artie was by the gate was Player 2 by the fire?', 'WO6: Player 2 is *in* artie piloting him lol', 'WO8: The two gates are 60ft apart so if you dashed yes', 'WO6: Hm. Ok. Will Sanctuary a Villager that looks likely to be attacked next and move normal movement.', \"WO8: *Player 1 and Player 2 you see the second Dire Wolf make its way out of the woods to the north it looks like it's about to jump the palisade*\"], 'commands_norm': '[\\'!a rapier -title \"Phantasmal Weapon\" -t dw2\\']'}\n"
     ]
    }
   ],
   "source": [
    "print(train_dataset[5])"
   ]
  },
  {
   "cell_type": "code",
   "execution_count": 14,
   "id": "99e3285a-2e9d-411c-bfa9-24445fb2356d",
   "metadata": {
    "tags": []
   },
   "outputs": [
    {
     "name": "stdout",
     "output_type": "stream",
     "text": [
      "Karliah\n",
      "\n",
      "[\"*Kelrick and Oli you see the second Dire Wolf make its way out of the woods to the north it looks like it's about to jump the palisade*\"]\n",
      "\n",
      "['!a rapier -title \"Phantasmal Weapon\" -t dw2']\n",
      "\n",
      "['WO8: I know Artie was by the gate was Player 2 by the fire?', 'WO6: Player 2 is *in* artie piloting him lol', 'WO8: The two gates are 60ft apart so if you dashed yes', 'WO6: Hm. Ok. Will Sanctuary a Villager that looks likely to be attacked next and move normal movement.', \"WO8: *Player 1 and Player 2 you see the second Dire Wolf make its way out of the woods to the north it looks like it's about to jump the palisade*\"]\n"
     ]
    }
   ],
   "source": [
    "print (train_dataset['current_actor'][5]['name'])\n",
    "print()\n",
    "print (train_dataset['before_utterances'][5])\n",
    "print()\n",
    "print(train_dataset['commands_norm'][5])\n",
    "print()\n",
    "print(train_dataset['utterance_history'][5])"
   ]
  },
  {
   "cell_type": "code",
   "execution_count": 29,
   "id": "db168830-446c-44da-8af9-d0cae3f0b5c7",
   "metadata": {},
   "outputs": [
    {
     "name": "stdout",
     "output_type": "stream",
     "text": [
      "{'actions': None, 'attacks': 'Crossbow, heavy (Thrushrach), Shortsword (Thrushrach), Shortsword2 (Thrushrach), Unarmed Strike (Thrushrach), Bite (Thrushrach), Bite (Edna)', 'class': None, 'controller_id': '0', 'description': None, 'effects': '', 'hp': '', 'name': \"Th's Ranger \", 'race': 'Group', 'spells': ''}\n",
      "\n",
      "[\"(at lest you didn't aim at my drake xD\", \"You didn't tell the party members ahead of time)\", 'And you need to make death saving throws', 'Can i attack now >_> )', 'You can use action to check the body though']\n",
      "\n",
      "[{'actions': 'Hungry Jaws, Drake Companion, Drake Companion: Command, Crossbow Expert Attack, Drake Companion: Summon, Primeval Awareness', 'attacks': 'Crossbow, heavy, Shortsword, Shortsword2, Unarmed Strike, Bite', 'class': 'Ranger 4', 'controller_id': '211023311098160087', 'description': None, 'effects': '', 'hp': '<32/32 HP; Healthy>', 'name': 'Thrushrach', 'race': 'Lizardfolk', 'spells': \"Animal Friendship, Hunter's Mark, Thaumaturgy, Speak with Animals\"}, {'actions': None, 'attacks': 'Bite', 'class': None, 'controller_id': '211023311098160087', 'description': None, 'effects': 'Bite', 'hp': '<25/25 HP; Healthy>', 'name': 'Edna', 'race': 'Drake Companion P2', 'spells': ''}, {'actions': 'Disarming Shot, Adept Marksman, Action Surge, Extra Attack, Violent Shot, Indomitable, Gunner, Deadeye Shot, Second Wind, Lucky', 'attacks': 'map, Pistol, Automatic, Pistol, Automatic2, Revolver, Shortsword, Unarmed Strike', 'class': 'Fighter 9', 'controller_id': '303160112743260203', 'description': None, 'effects': 'map', 'hp': '<85/85 HP; Healthy>', 'name': 'Cayde the 6th', 'race': 'Warforged', 'spells': ''}, {'actions': \"Relentless Endurance, Martial Adept, Maneuvers: Evasive Footwork, Runic Shield, Action Surge, Cloud Rune, Extra Attack, Frost Rune, Indomitable, Storm Rune, Maneuvers: Parry, Giant's Might, Second Wind\", 'attacks': 'Longbow, Warhammer +1, 2-Handed Warhammer +1, Unarmed Strike', 'class': 'Fighter 9', 'controller_id': '331427928050958624', 'description': '', 'effects': '', 'hp': '<94/94 HP; Healthy>', 'name': 'Nora Storm-child', 'race': 'Half-Orc', 'spells': ''}, {'actions': 'Infuse Item, Shapechange, Infiltrator Armor: Lightning Launcher (DEX), The Right Tool for the Job, Lightning Launcher, Arcane Armor - Create Armor, Magical Tinkering', 'attacks': 'Crossbow, light, Dagger, Rapier, Unarmed Strike, Infiltrator Armor: Lightning Launcher (DEX)', 'class': 'Artificer 4', 'controller_id': '211124537472256440', 'description': None, 'effects': '', 'hp': '<35/35 HP; Healthy>', 'name': 'Echo', 'race': 'Changeling', 'spells': \"Tasha's Caustic Brew, Thunderwave, Identify, Catapult, Grease, Purify Food and Drink, Magic Missile, Booming Blade, Detect Magic, Cure Wounds, Fire Bolt\"}, {'actions': 'Action Surge, Second Wind, Cloud Rune, Fire Rune', 'attacks': 'Longbow, Dragon Tooth, Handaxe, Handaxe2', 'class': 'Fighter 3', 'controller_id': '136503232070997789', 'description': '', 'effects': '', 'hp': '<37/37 HP; Healthy>', 'name': 'Skaði', 'race': 'Valkyrie', 'spells': ''}, {'actions': 'Rage, Divine Fury, Blood Curse of the Fallen Puppet (Amplified), Blood Curse of the Fallen Puppet', 'attacks': 'Divine Fury, Crimson Blade, Alternate Side', 'class': 'Barbarian  5/Blood Hunter 1', 'controller_id': '336156382909357813', 'description': '', 'effects': '', 'hp': '<83/83 HP; Healthy>', 'name': 'Ashildr', 'race': 'Half Elf', 'spells': ''}, {'actions': None, 'attacks': 'Spectral Longbow, Horrifying Visage, Wail', 'class': None, 'controller_id': '207027692360152249', 'description': None, 'effects': 'Wail Used', 'hp': '<58/58 HP; Healthy>', 'name': 'LB1', 'race': 'Lonelywood Banshee', 'spells': ''}]\n",
      "\n",
      "['!a crossbow -t lb1']\n",
      "\n",
      "[\"None: (at lest you didn't aim at my drake xD\", \"Thrushrach: You didn't tell the party members ahead of time)\", 'Thrushrach: And you need to make death saving throws', 'None: Can i attack now >_> )', 'Thrushrach: You can use action to check the body though']\n"
     ]
    }
   ],
   "source": [
    "indx = 111\n",
    "print (train_dataset['current_actor'][indx])\n",
    "print()\n",
    "print (train_dataset['before_utterances'][indx])\n",
    "print()\n",
    "print (train_dataset['combat_state_before'][indx])\n",
    "print()\n",
    "print(train_dataset['commands_norm'][indx])\n",
    "print()\n",
    "print(train_dataset['utterance_history'][indx])"
   ]
  },
  {
   "cell_type": "code",
   "execution_count": 32,
   "id": "1a027967-0fb3-410e-867e-2282fc1842c5",
   "metadata": {
    "tags": []
   },
   "outputs": [],
   "source": [
    "#train_dataset['commands_norm']"
   ]
  },
  {
   "cell_type": "code",
   "execution_count": 28,
   "id": "aa826a72-edc8-4d7c-a6f2-9bf292c6817b",
   "metadata": {
    "tags": []
   },
   "outputs": [],
   "source": [
    "#functions to parse though fireball and format for finetuning\n",
    "import json\n",
    "\n",
    "\n",
    "def write_jsonl(fname, json_objs):\n",
    "    with open(fname, 'wt') as f:\n",
    "        for o in json_objs:\n",
    "            f.write(json.dumps(o)+\"\\n\")\n",
    "\n",
    "def load_jsonl(file_path):\n",
    "    data = []\n",
    "    with open(file_path, 'r') as file:\n",
    "        for line in file:\n",
    "            data.append(json.loads(line))\n",
    "    return data\n",
    "\n",
    "def curr_state(jstr):\n",
    "    combined_actors = []\n",
    "    for item in jstr: \n",
    "        cname = \"Player: \" + item[\"name\"]\n",
    "        cname = cname.replace('\"','')\n",
    "        cname = cname.replace(\"'\",\"\")\n",
    "        cclass = item[\"class\"]\n",
    "        if cclass == None:\n",
    "            cclass = ''\n",
    "        else:\n",
    "            cclass = cclass.replace('\"','')\n",
    "            cclass = cclass.replace(\"'\",\"\")\n",
    "        chp = item[\"hp\"]\n",
    "        cattack = item[\"attacks\"]\n",
    "        cattack = cattack.replace('\"','')\n",
    "        cattack = cattack.replace(\"'\",\"\")\n",
    "        cspells = item[\"spells\"]\n",
    "        cspells = cspells.replace('\"','')\n",
    "        cspells = cspells.replace(\"'\",\"\")\n",
    "    \n",
    "        combined_string = f\"{cname} ({cclass}) ({chp}) ({cattack}) ({cspells})\"\n",
    "        combined_actors.append(combined_string)\n",
    "    a_string = ' '.join(combined_actors)\n",
    "    return(a_string)\n",
    "\n",
    "#function to convert json file to input/output format for llama instruct\n",
    "def convert_for_llamainstruct_finetuning(json_filename,output_path):\n",
    "    fireball_data = load_jsonl(json_filename)\n",
    "    json_objs = []\n",
    "    prompt='''You are a game agent in a DnD game. You will be provided with the current player, game state and the in game player utterance. Your task is to predict what action, attack or spell the play intends. Then provide the AVRAE command that will initiate the players intention in a discord DnD game. Return the avrae command. Here is the game state. [CLS]'''\n",
    "    for item in fireball_data:\n",
    "        #data={}\n",
    "        cactordata = str(item['current_actor'])\n",
    "        if cactordata != None:\n",
    "            cactordata = cactordata.replace('\"','')\n",
    "            cactordata = cactordata.replace(\"'\",\"\")\n",
    "            #cactor = \"Current Player: \" + str(item['current_actor'])\n",
    "            cactor = \" Current Player: \" + cactordata + \"[SEP]\"\n",
    "            cstate = \" Game State: \" + curr_state(item['combat_state_before']) + \"[SEP]\"\n",
    "            utteritem = str(item['before_utterances'])\n",
    "            utteritem = utteritem.replace('\"','')\n",
    "            utteritem = utteritem.replace(\"'\",'')\n",
    "            utteritem = utteritem.replace(\"\\\\\",'')\n",
    "            #utter = \" Utterances : \" + ' '.join(item['before_utterances']) + \"[SEP]\"\n",
    "            utter = \" Utterances : \" + utteritem + \"[SEP]\"\n",
    "        \n",
    "\n",
    "            inputstr = f\"{cactor}{cstate}{utter}\"\n",
    "            cmdstr =  str(item['commands_norm']) + \"[SEP]\"\n",
    "            cmdstr = cmdstr.replace(\"'\",\"\")\n",
    "\n",
    "            data = { \"input\": f'''{prompt}{cactor}{cstate}{utter} \\nAvrae Command: ''',\n",
    "                    \"output\": f'''{cmdstr}''' }\n",
    "            strdata = str(data)\n",
    "            lendata = len(strdata)\n",
    "            if lendata < 4001:\n",
    "                json_objs.append(data)\n",
    "    write_jsonl(output_path,json_objs)\n",
    "    return json_objs\n",
    "\n",
    "#function to convert json file to input/output format for llama instruct\n",
    "def convert_for_llamainstruct_finetuningM2(json_filename,output_path):\n",
    "    fireball_data = load_jsonl(json_filename)\n",
    "    json_objs = []\n",
    "    prompt='''You are a game agent in a DnD game. You will be provided with the current player and the in game player utterance. Your task is to predict what action, attack or spell the play intends. Then provide the AVRAE command that will initiate the players intention in a discord DnD game. Return the avrae command. Here is the game state. [CLS]'''\n",
    "    for item in fireball_data:\n",
    "        #data={}\n",
    "        cactordata = str(item['current_actor'])\n",
    "        if cactordata != None:\n",
    "            cactordata = cactordata.replace('\"','')\n",
    "            cactordata = cactordata.replace(\"'\",\"\")\n",
    "            #cactor = \"Current Player: \" + str(item['current_actor'])\n",
    "            cactor = \" Current Player: \" + cactordata + \"[SEP]\"\n",
    "            cstate = \" Game State: \" + curr_state(item['combat_state_before']) + \"[SEP]\"\n",
    "            utteritem = str(item['before_utterances'])\n",
    "            utteritem = utteritem.replace('\"','')\n",
    "            utteritem = utteritem.replace(\"'\",'')\n",
    "            utteritem = utteritem.replace(\"\\\\\",'')\n",
    "            #utter = \" Utterances : \" + ' '.join(item['before_utterances']) + \"[SEP]\"\n",
    "            utter = \" Utterances : \" + utteritem + \"[SEP]\"\n",
    "        \n",
    "\n",
    "            inputstr = f\"{cactor}{cstate}{utter}\"\n",
    "            cmdstr =  str(item['commands_norm']) + \"[SEP]\"\n",
    "            cmdstr = cmdstr.replace(\"'\",\"\")\n",
    "\n",
    "            data = { \"input\": f'''{prompt}{cactor}{utter} \\nAvrae Command: ''',\n",
    "                    \"output\": f'''{cmdstr}''' }\n",
    "            strdata = str(data)\n",
    "            lendata = len(strdata)\n",
    "            if lendata < 4001:\n",
    "                json_objs.append(data)\n",
    "    write_jsonl(output_path,json_objs)\n",
    "    return json_objs\n",
    "\n",
    "#function to convert json file to input/output format for llama instruct\n",
    "def convert_for_llamainstruct_finetuningM3(json_filename,output_path):\n",
    "    fireball_data = load_jsonl(json_filename)\n",
    "    json_objs = []\n",
    "    prompt='''You are a game agent in a DnD game. You will be provided with the current player and the in game player utterance. Your task is to predict what action, attack or spell the play intends. Then provide the AVRAE command that will initiate the players intention in a discord DnD game. Return the avrae command. Here is the game state. [CLS]'''\n",
    "    for item in fireball_data:\n",
    "        #data={}\n",
    "        cactordata = str(item['current_actor'])\n",
    "        if cactordata != None:\n",
    "            cactordata = cactordata.replace('\"','')\n",
    "            cactordata = cactordata.replace(\"'\",\"\")\n",
    "            #cactor = \"Current Player: \" + str(item['current_actor'])\n",
    "            cactor = \" Current Player: \" + cactordata + \"[SEP]\"\n",
    "            cstate = \" Game State: \" + curr_state(item['combat_state_before']) + \"[SEP]\"\n",
    "            utteritem = str(item['before_utterances'])\n",
    "            utteritem = utteritem.replace('\"','')\n",
    "            utteritem = utteritem.replace(\"'\",'')\n",
    "            utteritem = utteritem.replace(\"\\\\\",'')\n",
    "            #utter = \" Utterances : \" + ' '.join(item['before_utterances']) + \"[SEP]\"\n",
    "            utter = \" Utterances : \" + utteritem + \"[SEP]\"\n",
    "        \n",
    "\n",
    "            inputstr = f\"{cactor}{cstate}\"\n",
    "            cmdstr =  str(item['commands_norm']) + \"[SEP]\"\n",
    "            cmdstr = cmdstr.replace(\"'\",\"\")\n",
    "\n",
    "            data = { \"input\": f'''{prompt}{cactor}{cstate}\\nAvrae Command: ''',\n",
    "                    \"output\": f'''{cmdstr}''' }\n",
    "            strdata = str(data)\n",
    "            lendata = len(strdata)\n",
    "            if lendata < 4001:\n",
    "                json_objs.append(data)\n",
    "    write_jsonl(output_path,json_objs)\n",
    "    return json_objs\n",
    "\n",
    "\n",
    "#function to convert json file to message prompt format for GPT models\n",
    "def convert_for_gpt_finetuning(json_filename, output_path):\n",
    "    fireball_data = load_jsonl(json_filename)\n",
    "    system_message = \"You are a game agent in a DnD game. You will be provided with the current player, game state and the in game player utterance. Your task is to predict what action, attack or spell the play intends. Then provide the AVRAE command that will initiate the players intention in a discord DnD game. Return the avrae command. Here is the game state.\" \n",
    "    json_objs = []\n",
    "    for item in fireball_data:\n",
    "        data={}\n",
    "        item_input = item['input']\n",
    "        cactor = \" Current Player: \" + str(item['current_actor'])\n",
    "        cstate = \" Game State: \" + curr_state(item['combat_state_before'])\n",
    "        utter = \" Utterances : \" + ' '.join(item['before_utterances'])\n",
    "        \n",
    "        inputstr = f\"{cactor}{cstate}{utter}\"\n",
    "        item_output = item['commands_norm']\n",
    "        prompt = [{\"role\": \"system\",\"content\": system_message},{\"role\": \"user\",\"content\": inputstr},{\"role\":\"assistant\",\"content\":item_output}]\n",
    "        data['messages'] = prompt\n",
    "        json_objs.append(data)\n",
    "\n",
    "    write_jsonl(output_path,json_objs)\n",
    "    return json_objs\n",
    "\n",
    "#function takes in pandas df with input and output datasets and converts to multichoice format for RoBERTa model training\n",
    "def convert_to_multichoice(df):\n",
    "    \n",
    "    df = pd.DataFrame(df)\n",
    "\n",
    "    # Create a new dataframe with the multichoice format\n",
    "    df_multichoice = pd.DataFrame(columns=['sent2', 'ending0', 'ending1', 'ending2', 'ending3', 'label'])\n",
    "\n",
    "    # Loop through the original dataset\n",
    "    for index, row in df.iterrows():\n",
    "        # Set the value of sent2 to the input value\n",
    "        sent2 = row['input']\n",
    "\n",
    "        # Randomly select three outputs from the entire output column\n",
    "        outputs = df['output'].sample(n=3, replace=False).tolist()\n",
    "\n",
    "        # Add the actual ground truth output to the list\n",
    "        outputs.append(row['output'])\n",
    "\n",
    "        # Shuffle the list to randomize the position of the ground truth output\n",
    "        np.random.shuffle(outputs)\n",
    "\n",
    "        # Create a new row for the multichoice dataframe\n",
    "        new_row = {\n",
    "            'sent2': sent2,\n",
    "            'ending0': outputs[0],\n",
    "            'ending1': outputs[1],\n",
    "            'ending2': outputs[2],\n",
    "            'ending3': outputs[3],\n",
    "            'label': outputs.index(row['output'])\n",
    "        }\n",
    "\n",
    "        # Append the new row to the multichoice dataframe\n",
    "        df_multichoice = df_multichoice._append(new_row, ignore_index=True)\n",
    "    return df_multichoice\n"
   ]
  },
  {
   "cell_type": "code",
   "execution_count": 35,
   "id": "43acf99c-54bf-4eff-8946-04923879b458",
   "metadata": {
    "tags": []
   },
   "outputs": [],
   "source": [
    "#function to convert json file to input/output format for llama instruct\n",
    "def convert_for_llamainstruct_finetuningM1(json_filename,output_path):\n",
    "    fireball_data = load_jsonl(json_filename)\n",
    "    json_objs = []\n",
    "    prompt='''You are a game agent in a DnD game. You will be provided with the current player and the in game player utterance. Your task is to predict what action, attack or spell the play intends. Then provide the AVRAE command that will initiate the players intention in a discord DnD game. Return the avrae command. Here is the game state. [CLS]'''\n",
    "    for item in fireball_data:\n",
    "        #data={}\n",
    "        cactordata = str(item['current_actor'])\n",
    "        if cactordata != None:\n",
    "            cactordata = cactordata.replace('\"','')\n",
    "            cactordata = cactordata.replace(\"'\",\"\")\n",
    "            #cactor = \"Current Player: \" + str(item['current_actor'])\n",
    "            cactor = \" Current Player: \" + cactordata + \"[SEP]\"\n",
    "            cstate = \" Game State: \" + curr_state(item['combat_state_before']) + \"[SEP]\"\n",
    "            utteritem = str(item['before_utterances'])\n",
    "            utteritem = utteritem.replace('\"','')\n",
    "            utteritem = utteritem.replace(\"'\",'')\n",
    "            utteritem = utteritem.replace(\"\\\\\",'')\n",
    "            #utter = \" Utterances : \" + ' '.join(item['before_utterances']) + \"[SEP]\"\n",
    "            utter = \" Utterances : \" + utteritem + \"[SEP]\"\n",
    "        \n",
    "\n",
    "            inputstr = f\"{cactor}{utter}\"\n",
    "            cmdstr =  str(item['commands_norm']) + \"[SEP]\"\n",
    "            cmdstr = cmdstr.replace(\"'\",\"\")\n",
    "\n",
    "            data = { \"input\": f'''{cactor}{utter} \\nAvrae Command: ''',\n",
    "                    \"output\": f'''{cmdstr}''' }\n",
    "            strdata = str(data)\n",
    "            lendata = len(strdata)\n",
    "            if lendata < 4001:\n",
    "                json_objs.append(data)\n",
    "    write_jsonl(output_path,json_objs)\n",
    "    return json_objs\n",
    "\n",
    "#function to convert json file to input/output format for llama instruct\n",
    "def convert_for_llamainstruct_finetuningM4(json_filename,output_path):\n",
    "    fireball_data = load_jsonl(json_filename)\n",
    "    json_objs = []\n",
    "    prompt='''You are a game agent in a DnD game. You will be provided with the current player and the in game player utterance. Your task is to predict what action, attack or spell the play intends. Then provide the AVRAE command that will initiate the players intention in a discord DnD game. Return the avrae command. Here is the game state. [CLS]'''\n",
    "    for item in fireball_data:\n",
    "        #data={}\n",
    "        cactordata = str(item['current_actor'])\n",
    "        if cactordata != None:\n",
    "            cactordata = cactordata.replace('\"','')\n",
    "            cactordata = cactordata.replace(\"'\",\"\")\n",
    "            #cactor = \"Current Player: \" + str(item['current_actor'])\n",
    "            cactor = \" Current Player: \" + cactordata + \"[SEP]\"\n",
    "            cstate = \" Game State: \" + curr_state(item['combat_state_before']) + \"[SEP]\"\n",
    "            utteritem = str(item['before_utterances'])\n",
    "            utteritem = utteritem.replace('\"','')\n",
    "            utteritem = utteritem.replace(\"'\",'')\n",
    "            utteritem = utteritem.replace(\"\\\\\",'')\n",
    "            #utter = \" Utterances : \" + ' '.join(item['before_utterances']) + \"[SEP]\"\n",
    "            utter = \" Utterances : \" + utteritem + \"[SEP]\"\n",
    "        \n",
    "\n",
    "            inputstr = f\"{cactor}\"\n",
    "            cmdstr =  str(item['commands_norm']) + \"[SEP]\"\n",
    "            cmdstr = cmdstr.replace(\"'\",\"\")\n",
    "\n",
    "            data = { \"input\": f'''{cactor} \\nAvrae Command: ''',\n",
    "                    \"output\": f'''{cmdstr}''' }\n",
    "            strdata = str(data)\n",
    "            lendata = len(strdata)\n",
    "            if lendata < 4001:\n",
    "                json_objs.append(data)\n",
    "    write_jsonl(output_path,json_objs)\n",
    "    return json_objs\n",
    "#function to convert json file to input/output format for llama instruct\n",
    "\n",
    "def convert_for_llamainstruct_finetuningM5(json_filename,output_path):\n",
    "    fireball_data = load_jsonl(json_filename)\n",
    "    json_objs = []\n",
    "    prompt='''You are a game agent in a DnD game. You will be provided with the current player and the in game player utterance. Your task is to predict what action, attack or spell the play intends. Then provide the AVRAE command that will initiate the players intention in a discord DnD game. Return the avrae command. Here is the game state. [CLS]'''\n",
    "    for item in fireball_data:\n",
    "        #data={}\n",
    "        cactordata = str(item['current_actor'])\n",
    "        if cactordata != None:\n",
    "            cactordata = cactordata.replace('\"','')\n",
    "            cactordata = cactordata.replace(\"'\",\"\")\n",
    "            #cactor = \"Current Player: \" + str(item['current_actor'])\n",
    "            cactor = \" Current Player: \" + cactordata + \"[SEP]\"\n",
    "            cstate = \" Game State: \" + curr_state(item['combat_state_before']) + \"[SEP]\"\n",
    "            utteritem = str(item['before_utterances'])\n",
    "            utteritem = utteritem.replace('\"','')\n",
    "            utteritem = utteritem.replace(\"'\",'')\n",
    "            utteritem = utteritem.replace(\"\\\\\",'')\n",
    "            #utter = \" Utterances : \" + ' '.join(item['before_utterances']) + \"[SEP]\"\n",
    "            utter = \" Utterances : \" + utteritem + \"[SEP]\"\n",
    "        \n",
    "\n",
    "            inputstr = f\"{utter}\"\n",
    "            cmdstr =  str(item['commands_norm']) + \"[SEP]\"\n",
    "            cmdstr = cmdstr.replace(\"'\",\"\")\n",
    "\n",
    "            data = { \"input\": f'''{utter} \\nAvrae Command: ''',\n",
    "                    \"output\": f'''{cmdstr}''' }\n",
    "            strdata = str(data)\n",
    "            lendata = len(strdata)\n",
    "            if lendata < 4001:\n",
    "                json_objs.append(data)\n",
    "    write_jsonl(output_path,json_objs)\n",
    "    return json_objs"
   ]
  },
  {
   "cell_type": "code",
   "execution_count": 12,
   "id": "cc0daf38-6629-4d22-ae08-40d779db2411",
   "metadata": {
    "tags": []
   },
   "outputs": [],
   "source": [
    "from datasets import load_dataset                   \n"
   ]
  },
  {
   "cell_type": "code",
   "execution_count": 13,
   "id": "e90c4885-c490-46c4-9fb5-235ebd9d2cda",
   "metadata": {
    "tags": []
   },
   "outputs": [
    {
     "data": {
      "application/vnd.jupyter.widget-view+json": {
       "model_id": "1b16ecfa5ebc4041836a32a1bc2a0d9d",
       "version_major": 2,
       "version_minor": 0
      },
      "text/plain": [
       "Creating json from Arrow format:   0%|          | 0/73 [00:00<?, ?ba/s]"
      ]
     },
     "metadata": {},
     "output_type": "display_data"
    },
    {
     "data": {
      "text/plain": [
       "451618751"
      ]
     },
     "execution_count": 13,
     "metadata": {},
     "output_type": "execute_result"
    }
   ],
   "source": [
    "#lets save the current dataset to a json file\n",
    "from datasets import load_dataset  \n",
    "train_dataset.to_json(\"data/fireball_train.jsonl\")"
   ]
  },
  {
   "cell_type": "code",
   "execution_count": 14,
   "id": "3d150420-2405-4487-b8de-86123e83cc39",
   "metadata": {
    "tags": []
   },
   "outputs": [
    {
     "data": {
      "text/plain": [
       "list"
      ]
     },
     "execution_count": 14,
     "metadata": {},
     "output_type": "execute_result"
    }
   ],
   "source": [
    "#now load the file you just saved and pass to the format function\n",
    "filename = \"data/fireball_train.jsonl\"\n",
    "train_json_objs = convert_for_llamainstruct_finetuning(filename,\"data/fireball_train_finetuning.jsonl\")\n",
    "type(train_json_objs)"
   ]
  },
  {
   "cell_type": "code",
   "execution_count": 15,
   "id": "ed853057-0228-4bc8-bf1a-c3108f7ab49d",
   "metadata": {
    "tags": []
   },
   "outputs": [
    {
     "name": "stdout",
     "output_type": "stream",
     "text": [
      "55110\n"
     ]
    }
   ],
   "source": [
    "print(len(train_json_objs))"
   ]
  },
  {
   "cell_type": "code",
   "execution_count": 16,
   "id": "e89cab55-37c7-496e-b533-f15ac69c2f72",
   "metadata": {
    "tags": []
   },
   "outputs": [
    {
     "name": "stdout",
     "output_type": "stream",
     "text": [
      "2964\n",
      "{'input': 'You are a game agent in a DnD game. You will be provided with the current player, game state and the in game player utterance. Your task is to predict what action, attack or spell the play intends. Then provide the AVRAE command that will initiate the players intention in a discord DnD game. Return the avrae command. Here is the game state. [CLS] Current Player: {actions: None, attacks: Fist, Regeneration, class: None, controller_id: 241419117855225963, description: None, effects: Aid, hp: <143/152 HP; Injured>, name: SG3, race: Shield Guardian, spells: }[SEP] Game State: Player: Cerberus (Fighter 7) (<74/84 HP; Injured> (+11 temp)) (Glaive, Halberd, Handaxe, Handaxe2, Moonrazor, Shortsword, Unarmed Strike, Polearm Master - Opportunity Attack) (Burning Hands, Flame Blade, Produce Flame) Player: lair () () () () Player: RS1 () (<22/22 HP; Healthy>) (Bite) () Player: RS2 () (<22/22 HP; Healthy>) (Bite) () Player: RS3 () (<22/22 HP; Healthy>) (Bite) () Player: RS4 () (<22/22 HP; Healthy>) (Bite) () Player: Conan Semloh (Warlock 10) (<68/78 HP; Injured> (+14 temp)) (Dagger, Dagger2, Greatsword, Greatersword, Longbow, Hunger of Hadar, Hunger of Hadar2, Halberd, Longsword) (Mage Hand, Counterspell, Dispel Magic, Shadow Blade, Blur, Green-Flame Blade, Phantasmal Killer, Hex, Elemental Weapon, Shield, Hunger of Hadar, Booming Blade, Wrathful Smite, Silvery Barbs, Blink, Wall of Light, Darkness, Branding Smite, Sickening Radiance, Shadow of Moil, Staggering Smite, Eldritch Blast, Healing Word, Remove Curse) Player: Tatiana (Druid 5/Cleric 4) (<84/93 HP; Injured>) (Dagger, Dart, Moon Sickle, +2, Staff of Healing, 2-Handed Staff of Healing, Unarmed Strike) (Summon Beast, Lesser Restoration, Plant Growth, Ceremony, Spider Climb, Speak with Animals, Sacred Flame, Protection from Evil and Good, Spare the Dying, Shape Water, Ice Knife, Enlarge/Reduce, Darkvision, Guiding Bolt, Inflict Wounds, Shield of Faith, Cure Wounds, Toll the Dead, Guidance, Mold Earth, Conjure Animals, Mass Cure Wounds, Spiritual Weapon, Prayer of Healing, Druidcraft, Light, Wither and Bloom, Bless, Healing Word, Call Lightning, Primal Savagery, Healing Spirit, Barkskin) Player: HO(ho) () (<15/15 HP; Healthy> (+21 temp)) () () Player: SGQ1 () (<192/230 HP; Injured>) (Lightning Sword, Wind Javelin, Legendary Action: Gust, Legendary Action: Thunderbolt) () Player: SG3 () (<143/152 HP; Injured>) (Fist, Regeneration) () Player: Horatio (Artificer 9) (<84/84 HP; Healthy> (+11 temp)) (Crossbow, light, DI Musket (Arty Repeating Shot Infused), Unarmed Strike) (Lesser Restoration, Fire Bolt, Aid, Mending, Thunderwave, Invisibility, Shatter, Vortex Warp, Wind Wall, Rope Trick, Fireball, Shield, Tiny Servant, Scorching Ray, Cure Wounds, Detect Magic, Haste) Player: EC(ho) () (<19/45 HP; Bloodied>) () () Player: map () () (map) ()[SEP] Utterances : [can he pick it up as a free action?)][SEP] \\nAvrae Command: ', 'output': '[!i a fist -rr 2 -t SGq1][SEP]'}\n"
     ]
    }
   ],
   "source": [
    "#lets take a look if the prompts are in the dataset and ready for training\n",
    "strt = str(train_json_objs[0])\n",
    "print(len(strt))\n",
    "print(strt)\n",
    "#print(train_json_objs[0])"
   ]
  },
  {
   "cell_type": "code",
   "execution_count": 17,
   "id": "313e4b3a-1c60-455a-bd60-27db18a758b1",
   "metadata": {
    "tags": []
   },
   "outputs": [
    {
     "data": {
      "application/vnd.jupyter.widget-view+json": {
       "model_id": "1909b6e7afb145e49b4eaa28f28af773",
       "version_major": 2,
       "version_minor": 0
      },
      "text/plain": [
       "Creating json from Arrow format:   0%|          | 0/25 [00:00<?, ?ba/s]"
      ]
     },
     "metadata": {},
     "output_type": "display_data"
    },
    {
     "name": "stdout",
     "output_type": "stream",
     "text": [
      "{'input': 'You are a game agent in a DnD game. You will be provided with the current player, game state and the in game player utterance. Your task is to predict what action, attack or spell the play intends. Then provide the AVRAE command that will initiate the players intention in a discord DnD game. Return the avrae command. Here is the game state. [CLS] Current Player: {actions: Channel Divinity: Conquering Presence, Divine Smite, Extra Attack, Hexblades Curse (Heal), Harness Divine Power, Hex Warrior, Divine Sense, Lay on Hands, Lay on Hands (Cleanse), Hexblades Curse, Channel Divinity, Aura of Protection, Headwinds: Gust of Wind, Channel Divinity: Guided Strike, attacks: Bokuto, 2-Handed Bokuto, Dagger, Dagger2, Javelin, Moon-Touched Sword, Longsword, 2-Handed Moon-Touched Sword, Longsword, Unarmed Strike, class: Paladin 6/Warlock 1, controller_id: 425255192845774907, description: None, effects: , hp: <66/66 HP; Healthy>, name: Vexx Tempest, race: Mark of Storm Half-Elf, spells: Spiritual Weapon, Magic Weapon, Sacred Flame, Armor of Agathys, Bless, Guidance, Eldritch Blast, Divine Favor, Searing Smite, Shield, Feather Fall, Gust, Booming Blade, Lesser Restoration, Gust of Wind, Hex, Command, Shield of Faith, Hold Person}[SEP] Game State: Player: Maximillian Valyor (Fighter 7) (<53/53 HP; Healthy>) (Dagger, Handaxe, Handaxe2, Longbow, Musket of Warning, Pepperbox (Exandria), Rapier, Scimitar, Unarmed Strike) () Player: Kaitrin Seren-Faeddur (Cleric 5) (<43/43 HP; Healthy>) (Crossbow, light, Mace, Unarmed Strike) (Sacred Flame, Aid, Revivify, Warding Bond, Bless, Sending, Guidance, Beacon of Hope, Toll the Dead, Guiding Bolt, Prayer of Healing, Sanctuary, Cure Wounds, Dispel Magic, Enhance Ability, Bane, Spare the Dying, Create Food and Water, Mending, Healing Word, Heroism) Player: Vexx Tempest (Paladin 6/Warlock 1) (<66/66 HP; Healthy>) (Bokuto, 2-Handed Bokuto, Dagger, Dagger2, Javelin, Moon-Touched Sword, Longsword, 2-Handed Moon-Touched Sword, Longsword, Unarmed Strike) (Spiritual Weapon, Magic Weapon, Sacred Flame, Armor of Agathys, Bless, Guidance, Eldritch Blast, Divine Favor, Searing Smite, Shield, Feather Fall, Gust, Booming Blade, Lesser Restoration, Gust of Wind, Hex, Command, Shield of Faith, Hold Person) Player: Shiro (Wizard 7/Cleric 1) (<59/59 HP; Healthy>) (Dagger, Unarmed Strike, Set Game, Crackling Leap, Promote, Knight, Bishop) (Baels Distant Shield, Blink, Resistance, Vortex Warp, Absorb Elements, Mind Sliver, Bless, Guidance, Fire Bolt, Sanctuary, Slow, Shield, Counterspell, False Life, Gust, Bane, Spare the Dying, Crackling Leap, Mending, Banishment, Healing Word, Flaming Sphere, Infestation, Dimension Door) Player: Zengi (Paladin 6/Sorcerer 1) (<72/72 HP; Healthy>) (Mace, Pistol (Exandria), Pistol Close Range, Cool Bat, Claws) (Magic Weapon, Protection from Evil and Good, Shield, Bless, Thunderous Smite, Prestidigitation, Enthrall, Ray of Frost, Charm Person, Command, Detect Magic, Fog Cloud, Shape Water, Thunderwave, Shocking Grasp, Lesser Restoration)[SEP] Utterances : [Shit did you do that?, .!i oc ba1 stealth , It looks like a normal, new book. The pages are written in normal ink.][SEP] \\nAvrae Command: ', 'output': '[!i cast hex -t Shiro][SEP]'}\n"
     ]
    }
   ],
   "source": [
    "val_dataset = Dataset.from_pandas(validation_data)\n",
    "val_dataset.to_json(\"data/fireball_val.jsonl\")\n",
    "valfilename = \"data/fireball_val.jsonl\"\n",
    "val_json_objs = convert_for_llamainstruct_finetuning(valfilename,\"data/fireball_val_finetuning.jsonl\")\n",
    "print(val_json_objs[0])"
   ]
  },
  {
   "cell_type": "code",
   "execution_count": 18,
   "id": "74292137-2143-40cc-b538-1ffbb9bce708",
   "metadata": {
    "tags": []
   },
   "outputs": [
    {
     "name": "stdout",
     "output_type": "stream",
     "text": [
      "{'input': 'You are a game agent in a DnD game. You will be provided with the current player, game state and the in game player utterance. Your task is to predict what action, attack or spell the play intends. Then provide the AVRAE command that will initiate the players intention in a discord DnD game. Return the avrae command. Here is the game state. [CLS] Current Player: {actions: Channel Divinity: Conquering Presence, Divine Smite, Extra Attack, Hexblades Curse (Heal), Harness Divine Power, Hex Warrior, Divine Sense, Lay on Hands, Lay on Hands (Cleanse), Hexblades Curse, Channel Divinity, Aura of Protection, Headwinds: Gust of Wind, Channel Divinity: Guided Strike, attacks: Bokuto, 2-Handed Bokuto, Dagger, Dagger2, Javelin, Moon-Touched Sword, Longsword, 2-Handed Moon-Touched Sword, Longsword, Unarmed Strike, class: Paladin 6/Warlock 1, controller_id: 425255192845774907, description: None, effects: , hp: <66/66 HP; Healthy>, name: Vexx Tempest, race: Mark of Storm Half-Elf, spells: Spiritual Weapon, Magic Weapon, Sacred Flame, Armor of Agathys, Bless, Guidance, Eldritch Blast, Divine Favor, Searing Smite, Shield, Feather Fall, Gust, Booming Blade, Lesser Restoration, Gust of Wind, Hex, Command, Shield of Faith, Hold Person}[SEP] Game State: Player: Maximillian Valyor (Fighter 7) (<53/53 HP; Healthy>) (Dagger, Handaxe, Handaxe2, Longbow, Musket of Warning, Pepperbox (Exandria), Rapier, Scimitar, Unarmed Strike) () Player: Kaitrin Seren-Faeddur (Cleric 5) (<43/43 HP; Healthy>) (Crossbow, light, Mace, Unarmed Strike) (Sacred Flame, Aid, Revivify, Warding Bond, Bless, Sending, Guidance, Beacon of Hope, Toll the Dead, Guiding Bolt, Prayer of Healing, Sanctuary, Cure Wounds, Dispel Magic, Enhance Ability, Bane, Spare the Dying, Create Food and Water, Mending, Healing Word, Heroism) Player: Vexx Tempest (Paladin 6/Warlock 1) (<66/66 HP; Healthy>) (Bokuto, 2-Handed Bokuto, Dagger, Dagger2, Javelin, Moon-Touched Sword, Longsword, 2-Handed Moon-Touched Sword, Longsword, Unarmed Strike) (Spiritual Weapon, Magic Weapon, Sacred Flame, Armor of Agathys, Bless, Guidance, Eldritch Blast, Divine Favor, Searing Smite, Shield, Feather Fall, Gust, Booming Blade, Lesser Restoration, Gust of Wind, Hex, Command, Shield of Faith, Hold Person) Player: Shiro (Wizard 7/Cleric 1) (<59/59 HP; Healthy>) (Dagger, Unarmed Strike, Set Game, Crackling Leap, Promote, Knight, Bishop) (Baels Distant Shield, Blink, Resistance, Vortex Warp, Absorb Elements, Mind Sliver, Bless, Guidance, Fire Bolt, Sanctuary, Slow, Shield, Counterspell, False Life, Gust, Bane, Spare the Dying, Crackling Leap, Mending, Banishment, Healing Word, Flaming Sphere, Infestation, Dimension Door) Player: Zengi (Paladin 6/Sorcerer 1) (<72/72 HP; Healthy>) (Mace, Pistol (Exandria), Pistol Close Range, Cool Bat, Claws) (Magic Weapon, Protection from Evil and Good, Shield, Bless, Thunderous Smite, Prestidigitation, Enthrall, Ray of Frost, Charm Person, Command, Detect Magic, Fog Cloud, Shape Water, Thunderwave, Shocking Grasp, Lesser Restoration)[SEP] Utterances : [Shit did you do that?, .!i oc ba1 stealth , It looks like a normal, new book. The pages are written in normal ink.][SEP] \\nAvrae Command: ', 'output': '[!i cast hex -t Shiro][SEP]'}\n",
      "3236\n"
     ]
    }
   ],
   "source": [
    "strp = str(val_json_objs[0])\n",
    "print(strp)\n",
    "print(len(strp))\n",
    "#print(len(val_json_objs[0]))"
   ]
  },
  {
   "cell_type": "code",
   "execution_count": 19,
   "id": "8ff8bb90-517e-4d45-82c4-27bec0020da4",
   "metadata": {
    "tags": []
   },
   "outputs": [
    {
     "data": {
      "application/vnd.jupyter.widget-view+json": {
       "model_id": "9c8822b1d19446848a8ca068823f431b",
       "version_major": 2,
       "version_minor": 0
      },
      "text/plain": [
       "Creating json from Arrow format:   0%|          | 0/25 [00:00<?, ?ba/s]"
      ]
     },
     "metadata": {},
     "output_type": "display_data"
    },
    {
     "name": "stdout",
     "output_type": "stream",
     "text": [
      "{'input': 'You are a game agent in a DnD game. You will be provided with the current player, game state and the in game player utterance. Your task is to predict what action, attack or spell the play intends. Then provide the AVRAE command that will initiate the players intention in a discord DnD game. Return the avrae command. Here is the game state. [CLS] Current Player: {actions: None, attacks: Beak, Talons, class: None, controller_id: 981381483504357172, description: None, effects: buff, hp: <165/248 HP; Injured>, name: air monster, race: Roc, spells: }[SEP] Game State: Player: Minion () (<100/100 HP; Healthy> (+4 temp)) (Club) () Player: Fiona (Cleric 20) (<258/258 HP; Healthy>) (Akivean, 2-Handed Akivean, Crossbow, light, Unarmed Strike) (Beacon of Hope, Telekinesis, Dispel Magic, Revivify, Mending, Dispel Evil and Good, Warding Bond, Dimension Door, Guardian of Faith, Conjure Elemental, Mass Heal, Magic Missile, Sanctuary, True Seeing, Word of Radiance, Summon Celestial, Sleep, Bestow Curse, Aid, Wish, Baels Distant Shield, Mass Cure Wounds, Temple of the Gods, Raise Dead, Freedom of Movement, Greater Restoration, Scrying, Forbiddance, Heroes Feast, Resistance, Hallow, Sunbeam, Ray of Enfeeblement, Slow, Guidance, Heal, Disintegrate, Death Ward, Finger of Death, Booming Blade, Charm Person, Fear, Cure Wounds, Bane, Remove Curse, Spiritual Weapon, Toll the Dead, Bless, Flesh to Stone, Gate, Lesser Restoration, Spirit Guardians) Player: air monster () (<165/248 HP; Injured>) (Beak, Talons) () Player: sea monster () (<136/165 HP; Injured>) (Bite, Tentacles, Hypnosis) (Dispel Magic, Detect Magic, Dimension Door, Lightning Bolt, Mage Hand, Darkness, Sending) Player: Dark Templar () (<274/274 HP; Healthy>) (Greatsword, Shortbow, Frighten Foe, Survivor) ()[SEP] Utterances : [Keeps shredding minion and will move 60ft up to be at 160total][SEP] \\nAvrae Command: ', 'output': '[!i a bite -t min][SEP]'}\n"
     ]
    }
   ],
   "source": [
    "#now lets repeat for text data\n",
    "test_dataset = Dataset.from_pandas(test_data)\n",
    "test_dataset.to_json(\"data/fireball_test.jsonl\")\n",
    "testfilename = \"data/fireball_test.jsonl\"\n",
    "test_json_objs = convert_for_llamainstruct_finetuning(testfilename,\"data/fireball_test_finetuning.jsonl\")\n",
    "print(test_json_objs[0])"
   ]
  },
  {
   "cell_type": "markdown",
   "id": "270a7376-bb8b-416e-a935-50b3cedfb371",
   "metadata": {},
   "source": [
    "### Convert to MultiChoice for RoBERTa model training\n"
   ]
  },
  {
   "cell_type": "code",
   "execution_count": 95,
   "id": "b501000a-e3aa-4a30-a7d7-9c1933901144",
   "metadata": {
    "tags": []
   },
   "outputs": [
    {
     "data": {
      "text/html": [
       "<div>\n",
       "<style scoped>\n",
       "    .dataframe tbody tr th:only-of-type {\n",
       "        vertical-align: middle;\n",
       "    }\n",
       "\n",
       "    .dataframe tbody tr th {\n",
       "        vertical-align: top;\n",
       "    }\n",
       "\n",
       "    .dataframe thead th {\n",
       "        text-align: right;\n",
       "    }\n",
       "</style>\n",
       "<table border=\"1\" class=\"dataframe\">\n",
       "  <thead>\n",
       "    <tr style=\"text-align: right;\">\n",
       "      <th></th>\n",
       "      <th>input</th>\n",
       "      <th>output</th>\n",
       "    </tr>\n",
       "  </thead>\n",
       "  <tbody>\n",
       "    <tr>\n",
       "      <th>0</th>\n",
       "      <td>You are a game agent in a DnD game. You will b...</td>\n",
       "      <td>[!i a fist -rr 2 -t SGq1][SEP]</td>\n",
       "    </tr>\n",
       "    <tr>\n",
       "      <th>1</th>\n",
       "      <td>You are a game agent in a DnD game. You will b...</td>\n",
       "      <td>[!i a spirit -t FT1][SEP]</td>\n",
       "    </tr>\n",
       "    <tr>\n",
       "      <th>2</th>\n",
       "      <td>You are a game agent in a DnD game. You will b...</td>\n",
       "      <td>[!a rend -t kahlee][SEP]</td>\n",
       "    </tr>\n",
       "    <tr>\n",
       "      <th>3</th>\n",
       "      <td>You are a game agent in a DnD game. You will b...</td>\n",
       "      <td>[!a ace -t jester -d 2d8[fire] -d 10 -b -5 -f ...</td>\n",
       "    </tr>\n",
       "    <tr>\n",
       "      <th>4</th>\n",
       "      <td>You are a game agent in a DnD game. You will b...</td>\n",
       "      <td>[!a rapier -title \"Phantasmal Weapon\" -t dw2][...</td>\n",
       "    </tr>\n",
       "  </tbody>\n",
       "</table>\n",
       "</div>"
      ],
      "text/plain": [
       "                                               input  \\\n",
       "0  You are a game agent in a DnD game. You will b...   \n",
       "1  You are a game agent in a DnD game. You will b...   \n",
       "2  You are a game agent in a DnD game. You will b...   \n",
       "3  You are a game agent in a DnD game. You will b...   \n",
       "4  You are a game agent in a DnD game. You will b...   \n",
       "\n",
       "                                              output  \n",
       "0                     [!i a fist -rr 2 -t SGq1][SEP]  \n",
       "1                          [!i a spirit -t FT1][SEP]  \n",
       "2                           [!a rend -t kahlee][SEP]  \n",
       "3  [!a ace -t jester -d 2d8[fire] -d 10 -b -5 -f ...  \n",
       "4  [!a rapier -title \"Phantasmal Weapon\" -t dw2][...  "
      ]
     },
     "execution_count": 95,
     "metadata": {},
     "output_type": "execute_result"
    }
   ],
   "source": [
    "fb_df = pd.DataFrame(train_json_objs)\n",
    "fb_df.head()"
   ]
  },
  {
   "cell_type": "code",
   "execution_count": 29,
   "id": "14bb746d-87f7-4a82-9c3c-4276e523adb9",
   "metadata": {
    "tags": []
   },
   "outputs": [
    {
     "data": {
      "application/vnd.jupyter.widget-view+json": {
       "model_id": "6520666504b04c50958d24028aabc61f",
       "version_major": 2,
       "version_minor": 0
      },
      "text/plain": [
       "Creating json from Arrow format:   0%|          | 0/73 [00:00<?, ?ba/s]"
      ]
     },
     "metadata": {},
     "output_type": "display_data"
    },
    {
     "data": {
      "application/vnd.jupyter.widget-view+json": {
       "model_id": "04f32438758a4473980cb73e3de790e5",
       "version_major": 2,
       "version_minor": 0
      },
      "text/plain": [
       "Creating json from Arrow format:   0%|          | 0/25 [00:00<?, ?ba/s]"
      ]
     },
     "metadata": {},
     "output_type": "display_data"
    },
    {
     "name": "stdout",
     "output_type": "stream",
     "text": [
      "{'input': ' Current Player: {actions: Channel Divinity: Conquering Presence, Divine Smite, Extra Attack, Hexblades Curse (Heal), Harness Divine Power, Hex Warrior, Divine Sense, Lay on Hands, Lay on Hands (Cleanse), Hexblades Curse, Channel Divinity, Aura of Protection, Headwinds: Gust of Wind, Channel Divinity: Guided Strike, attacks: Bokuto, 2-Handed Bokuto, Dagger, Dagger2, Javelin, Moon-Touched Sword, Longsword, 2-Handed Moon-Touched Sword, Longsword, Unarmed Strike, class: Paladin 6/Warlock 1, controller_id: 425255192845774907, description: None, effects: , hp: <66/66 HP; Healthy>, name: Vexx Tempest, race: Mark of Storm Half-Elf, spells: Spiritual Weapon, Magic Weapon, Sacred Flame, Armor of Agathys, Bless, Guidance, Eldritch Blast, Divine Favor, Searing Smite, Shield, Feather Fall, Gust, Booming Blade, Lesser Restoration, Gust of Wind, Hex, Command, Shield of Faith, Hold Person}[SEP] Utterances : [Shit did you do that?, .!i oc ba1 stealth , It looks like a normal, new book. The pages are written in normal ink.][SEP] \\nAvrae Command: ', 'output': '[!i cast hex -t Shiro][SEP]'}\n"
     ]
    },
    {
     "data": {
      "application/vnd.jupyter.widget-view+json": {
       "model_id": "76b485da17584f86849159b955710c4e",
       "version_major": 2,
       "version_minor": 0
      },
      "text/plain": [
       "Creating json from Arrow format:   0%|          | 0/25 [00:00<?, ?ba/s]"
      ]
     },
     "metadata": {},
     "output_type": "display_data"
    },
    {
     "name": "stdout",
     "output_type": "stream",
     "text": [
      "{'input': ' Current Player: {actions: None, attacks: Beak, Talons, class: None, controller_id: 981381483504357172, description: None, effects: buff, hp: <165/248 HP; Injured>, name: air monster, race: Roc, spells: }[SEP] Utterances : [Keeps shredding minion and will move 60ft up to be at 160total][SEP] \\nAvrae Command: ', 'output': '[!i a bite -t min][SEP]'}\n"
     ]
    }
   ],
   "source": [
    "#m1 before utterances + current player\n",
    "from datasets import load_dataset  \n",
    "train_dataset = Dataset.from_pandas(train_data)\n",
    "train_dataset.to_json(\"data/fireball_train_m1.jsonl\")\n",
    "filename = \"data/fireball_train_m1.jsonl\"\n",
    "train_json_objs = convert_for_llamainstruct_finetuningM1(filename,\"data/fireball_train_finetuning_m1.jsonl\")\n",
    "\n",
    "val_dataset = Dataset.from_pandas(validation_data)\n",
    "val_dataset.to_json(\"data/fireball_val_m1.jsonl\")\n",
    "valfilename = \"data/fireball_val_m1.jsonl\"\n",
    "val_json_objs = convert_for_llamainstruct_finetuningM1(valfilename,\"data/fireball_val_finetuning_m1.jsonl\")\n",
    "print(val_json_objs[0])\n",
    "\n",
    "test_dataset = Dataset.from_pandas(test_data)\n",
    "test_dataset.to_json(\"data/fireball_test_m1.jsonl\")\n",
    "testfilename = \"data/fireball_test_m1.jsonl\"\n",
    "test_json_objs = convert_for_llamainstruct_finetuningM1(testfilename,\"data/fireball_test_finetuning_m1.jsonl\")\n",
    "print(test_json_objs[0])"
   ]
  },
  {
   "cell_type": "code",
   "execution_count": 31,
   "id": "4a475491-bb79-4782-845e-627d4ec4a950",
   "metadata": {
    "tags": []
   },
   "outputs": [
    {
     "data": {
      "application/vnd.jupyter.widget-view+json": {
       "model_id": "e53a61b00c864bbeb8fe4d5232cb922a",
       "version_major": 2,
       "version_minor": 0
      },
      "text/plain": [
       "Creating json from Arrow format:   0%|          | 0/73 [00:00<?, ?ba/s]"
      ]
     },
     "metadata": {},
     "output_type": "display_data"
    },
    {
     "data": {
      "application/vnd.jupyter.widget-view+json": {
       "model_id": "1eb4bdfbacab4d168daedb2877083d51",
       "version_major": 2,
       "version_minor": 0
      },
      "text/plain": [
       "Creating json from Arrow format:   0%|          | 0/25 [00:00<?, ?ba/s]"
      ]
     },
     "metadata": {},
     "output_type": "display_data"
    },
    {
     "name": "stdout",
     "output_type": "stream",
     "text": [
      "{'input': 'You are a game agent in a DnD game. You will be provided with the current player and the in game player utterance. Your task is to predict what action, attack or spell the play intends. Then provide the AVRAE command that will initiate the players intention in a discord DnD game. Return the avrae command. Here is the game state. [CLS] Current Player: {actions: Channel Divinity: Conquering Presence, Divine Smite, Extra Attack, Hexblades Curse (Heal), Harness Divine Power, Hex Warrior, Divine Sense, Lay on Hands, Lay on Hands (Cleanse), Hexblades Curse, Channel Divinity, Aura of Protection, Headwinds: Gust of Wind, Channel Divinity: Guided Strike, attacks: Bokuto, 2-Handed Bokuto, Dagger, Dagger2, Javelin, Moon-Touched Sword, Longsword, 2-Handed Moon-Touched Sword, Longsword, Unarmed Strike, class: Paladin 6/Warlock 1, controller_id: 425255192845774907, description: None, effects: , hp: <66/66 HP; Healthy>, name: Vexx Tempest, race: Mark of Storm Half-Elf, spells: Spiritual Weapon, Magic Weapon, Sacred Flame, Armor of Agathys, Bless, Guidance, Eldritch Blast, Divine Favor, Searing Smite, Shield, Feather Fall, Gust, Booming Blade, Lesser Restoration, Gust of Wind, Hex, Command, Shield of Faith, Hold Person}[SEP] Utterances : [Shit did you do that?, .!i oc ba1 stealth , It looks like a normal, new book. The pages are written in normal ink.][SEP] \\nAvrae Command: ', 'output': '[!i cast hex -t Shiro][SEP]'}\n"
     ]
    },
    {
     "data": {
      "application/vnd.jupyter.widget-view+json": {
       "model_id": "7f444431d5c340b49d4be89c704d102d",
       "version_major": 2,
       "version_minor": 0
      },
      "text/plain": [
       "Creating json from Arrow format:   0%|          | 0/25 [00:00<?, ?ba/s]"
      ]
     },
     "metadata": {},
     "output_type": "display_data"
    },
    {
     "name": "stdout",
     "output_type": "stream",
     "text": [
      "{'input': 'You are a game agent in a DnD game. You will be provided with the current player and the in game player utterance. Your task is to predict what action, attack or spell the play intends. Then provide the AVRAE command that will initiate the players intention in a discord DnD game. Return the avrae command. Here is the game state. [CLS] Current Player: {actions: None, attacks: Beak, Talons, class: None, controller_id: 981381483504357172, description: None, effects: buff, hp: <165/248 HP; Injured>, name: air monster, race: Roc, spells: }[SEP] Utterances : [Keeps shredding minion and will move 60ft up to be at 160total][SEP] \\nAvrae Command: ', 'output': '[!i a bite -t min][SEP]'}\n"
     ]
    }
   ],
   "source": [
    "#m2 conversion #before utterances, combat state before, current actor state \n",
    "from datasets import load_dataset  \n",
    "train_dataset.to_json(\"data/fireball_train_m2.jsonl\")\n",
    "filename = \"data/fireball_train_m2.jsonl\"\n",
    "train_json_objs = convert_for_llamainstruct_finetuningM2(filename,\"data/fireball_train_finetuning_m2.jsonl\")\n",
    "\n",
    "val_dataset = Dataset.from_pandas(validation_data)\n",
    "val_dataset.to_json(\"data/fireball_val_m2.jsonl\")\n",
    "valfilename = \"data/fireball_val_m2.jsonl\"\n",
    "val_json_objs = convert_for_llamainstruct_finetuningM2(valfilename,\"data/fireball_val_finetuning_m2.jsonl\")\n",
    "print(val_json_objs[0])\n",
    "\n",
    "test_dataset = Dataset.from_pandas(test_data)\n",
    "test_dataset.to_json(\"data/fireball_test_m2.jsonl\")\n",
    "testfilename = \"data/fireball_test_m2.jsonl\"\n",
    "test_json_objs = convert_for_llamainstruct_finetuningM2(testfilename,\"data/fireball_test_finetuning_m2.jsonl\")\n",
    "print(test_json_objs[0])"
   ]
  },
  {
   "cell_type": "code",
   "execution_count": 36,
   "id": "2e3af5cf-58e1-43a4-b2db-3191bc6b1b9e",
   "metadata": {
    "tags": []
   },
   "outputs": [
    {
     "data": {
      "application/vnd.jupyter.widget-view+json": {
       "model_id": "295140089d3349a384efc301274edf4a",
       "version_major": 2,
       "version_minor": 0
      },
      "text/plain": [
       "Creating json from Arrow format:   0%|          | 0/73 [00:00<?, ?ba/s]"
      ]
     },
     "metadata": {},
     "output_type": "display_data"
    },
    {
     "name": "stderr",
     "output_type": "stream",
     "text": [
      "IOPub data rate exceeded.\n",
      "The Jupyter server will temporarily stop sending output\n",
      "to the client in order to avoid crashing it.\n",
      "To change this limit, set the config variable\n",
      "`--ServerApp.iopub_data_rate_limit`.\n",
      "\n",
      "Current values:\n",
      "ServerApp.iopub_data_rate_limit=1000000.0 (bytes/sec)\n",
      "ServerApp.rate_limit_window=3.0 (secs)\n",
      "\n"
     ]
    },
    {
     "data": {
      "application/vnd.jupyter.widget-view+json": {
       "model_id": "3e128c71f80245ce903b86e108e26f67",
       "version_major": 2,
       "version_minor": 0
      },
      "text/plain": [
       "Creating json from Arrow format:   0%|          | 0/25 [00:00<?, ?ba/s]"
      ]
     },
     "metadata": {},
     "output_type": "display_data"
    },
    {
     "name": "stdout",
     "output_type": "stream",
     "text": [
      "{'input': 'You are a game agent in a DnD game. You will be provided with the current player and the in game player utterance. Your task is to predict what action, attack or spell the play intends. Then provide the AVRAE command that will initiate the players intention in a discord DnD game. Return the avrae command. Here is the game state. [CLS] Current Player: {actions: Channel Divinity: Conquering Presence, Divine Smite, Extra Attack, Hexblades Curse (Heal), Harness Divine Power, Hex Warrior, Divine Sense, Lay on Hands, Lay on Hands (Cleanse), Hexblades Curse, Channel Divinity, Aura of Protection, Headwinds: Gust of Wind, Channel Divinity: Guided Strike, attacks: Bokuto, 2-Handed Bokuto, Dagger, Dagger2, Javelin, Moon-Touched Sword, Longsword, 2-Handed Moon-Touched Sword, Longsword, Unarmed Strike, class: Paladin 6/Warlock 1, controller_id: 425255192845774907, description: None, effects: , hp: <66/66 HP; Healthy>, name: Vexx Tempest, race: Mark of Storm Half-Elf, spells: Spiritual Weapon, Magic Weapon, Sacred Flame, Armor of Agathys, Bless, Guidance, Eldritch Blast, Divine Favor, Searing Smite, Shield, Feather Fall, Gust, Booming Blade, Lesser Restoration, Gust of Wind, Hex, Command, Shield of Faith, Hold Person}[SEP] Game State: Player: Maximillian Valyor (Fighter 7) (<53/53 HP; Healthy>) (Dagger, Handaxe, Handaxe2, Longbow, Musket of Warning, Pepperbox (Exandria), Rapier, Scimitar, Unarmed Strike) () Player: Kaitrin Seren-Faeddur (Cleric 5) (<43/43 HP; Healthy>) (Crossbow, light, Mace, Unarmed Strike) (Sacred Flame, Aid, Revivify, Warding Bond, Bless, Sending, Guidance, Beacon of Hope, Toll the Dead, Guiding Bolt, Prayer of Healing, Sanctuary, Cure Wounds, Dispel Magic, Enhance Ability, Bane, Spare the Dying, Create Food and Water, Mending, Healing Word, Heroism) Player: Vexx Tempest (Paladin 6/Warlock 1) (<66/66 HP; Healthy>) (Bokuto, 2-Handed Bokuto, Dagger, Dagger2, Javelin, Moon-Touched Sword, Longsword, 2-Handed Moon-Touched Sword, Longsword, Unarmed Strike) (Spiritual Weapon, Magic Weapon, Sacred Flame, Armor of Agathys, Bless, Guidance, Eldritch Blast, Divine Favor, Searing Smite, Shield, Feather Fall, Gust, Booming Blade, Lesser Restoration, Gust of Wind, Hex, Command, Shield of Faith, Hold Person) Player: Shiro (Wizard 7/Cleric 1) (<59/59 HP; Healthy>) (Dagger, Unarmed Strike, Set Game, Crackling Leap, Promote, Knight, Bishop) (Baels Distant Shield, Blink, Resistance, Vortex Warp, Absorb Elements, Mind Sliver, Bless, Guidance, Fire Bolt, Sanctuary, Slow, Shield, Counterspell, False Life, Gust, Bane, Spare the Dying, Crackling Leap, Mending, Banishment, Healing Word, Flaming Sphere, Infestation, Dimension Door) Player: Zengi (Paladin 6/Sorcerer 1) (<72/72 HP; Healthy>) (Mace, Pistol (Exandria), Pistol Close Range, Cool Bat, Claws) (Magic Weapon, Protection from Evil and Good, Shield, Bless, Thunderous Smite, Prestidigitation, Enthrall, Ray of Frost, Charm Person, Command, Detect Magic, Fog Cloud, Shape Water, Thunderwave, Shocking Grasp, Lesser Restoration)[SEP]\\nAvrae Command: ', 'output': '[!i cast hex -t Shiro][SEP]'}\n"
     ]
    },
    {
     "data": {
      "application/vnd.jupyter.widget-view+json": {
       "model_id": "0cab3c53562040e6b3b7fb11ca7b046c",
       "version_major": 2,
       "version_minor": 0
      },
      "text/plain": [
       "Creating json from Arrow format:   0%|          | 0/25 [00:00<?, ?ba/s]"
      ]
     },
     "metadata": {},
     "output_type": "display_data"
    },
    {
     "name": "stdout",
     "output_type": "stream",
     "text": [
      "{'input': 'You are a game agent in a DnD game. You will be provided with the current player and the in game player utterance. Your task is to predict what action, attack or spell the play intends. Then provide the AVRAE command that will initiate the players intention in a discord DnD game. Return the avrae command. Here is the game state. [CLS] Current Player: {actions: None, attacks: Beak, Talons, class: None, controller_id: 981381483504357172, description: None, effects: buff, hp: <165/248 HP; Injured>, name: air monster, race: Roc, spells: }[SEP] Game State: Player: Minion () (<100/100 HP; Healthy> (+4 temp)) (Club) () Player: Fiona (Cleric 20) (<258/258 HP; Healthy>) (Akivean, 2-Handed Akivean, Crossbow, light, Unarmed Strike) (Beacon of Hope, Telekinesis, Dispel Magic, Revivify, Mending, Dispel Evil and Good, Warding Bond, Dimension Door, Guardian of Faith, Conjure Elemental, Mass Heal, Magic Missile, Sanctuary, True Seeing, Word of Radiance, Summon Celestial, Sleep, Bestow Curse, Aid, Wish, Baels Distant Shield, Mass Cure Wounds, Temple of the Gods, Raise Dead, Freedom of Movement, Greater Restoration, Scrying, Forbiddance, Heroes Feast, Resistance, Hallow, Sunbeam, Ray of Enfeeblement, Slow, Guidance, Heal, Disintegrate, Death Ward, Finger of Death, Booming Blade, Charm Person, Fear, Cure Wounds, Bane, Remove Curse, Spiritual Weapon, Toll the Dead, Bless, Flesh to Stone, Gate, Lesser Restoration, Spirit Guardians) Player: air monster () (<165/248 HP; Injured>) (Beak, Talons) () Player: sea monster () (<136/165 HP; Injured>) (Bite, Tentacles, Hypnosis) (Dispel Magic, Detect Magic, Dimension Door, Lightning Bolt, Mage Hand, Darkness, Sending) Player: Dark Templar () (<274/274 HP; Healthy>) (Greatsword, Shortbow, Frighten Foe, Survivor) ()[SEP]\\nAvrae Command: ', 'output': '[!i a bite -t min][SEP]'}\n"
     ]
    }
   ],
   "source": [
    "#m3 conversion #combat state before, current actor state \n",
    "from datasets import load_dataset, Dataset\n",
    "\n",
    "train_dataset = Dataset.from_pandas(train_data)\n",
    "train_dataset.to_json(\"data/fireball_train_m3.jsonl\")\n",
    "filename = \"data/fireball_train_m3.jsonl\"\n",
    "train_json_objs = convert_for_llamainstruct_finetuningM3(filename,\"data/fireball_train_finetuning_m3.jsonl\")\n",
    "print(train_json_objs)\n",
    "                                                         \n",
    "val_dataset = Dataset.from_pandas(validation_data)\n",
    "val_dataset.to_json(\"data/fireball_val_m3.jsonl\")\n",
    "valfilename = \"data/fireball_val_m3.jsonl\"\n",
    "val_json_objs = convert_for_llamainstruct_finetuningM3(valfilename,\"data/fireball_val_finetuning_m3.jsonl\")\n",
    "print(val_json_objs[0])\n",
    "\n",
    "test_dataset = Dataset.from_pandas(test_data)\n",
    "test_dataset.to_json(\"data/fireball_test_m3.jsonl\")\n",
    "testfilename = \"data/fireball_test_m3.jsonl\"\n",
    "test_json_objs = convert_for_llamainstruct_finetuningM3(testfilename,\"data/fireball_test_finetuning_m3.jsonl\")\n",
    "print(test_json_objs[0])"
   ]
  },
  {
   "cell_type": "code",
   "execution_count": 33,
   "id": "21f22814-ae42-4b7c-9778-c71c0a2c8271",
   "metadata": {
    "tags": []
   },
   "outputs": [
    {
     "data": {
      "application/vnd.jupyter.widget-view+json": {
       "model_id": "d3b8881831f442539a8a0fb241e894b1",
       "version_major": 2,
       "version_minor": 0
      },
      "text/plain": [
       "Creating json from Arrow format:   0%|          | 0/73 [00:00<?, ?ba/s]"
      ]
     },
     "metadata": {},
     "output_type": "display_data"
    },
    {
     "name": "stderr",
     "output_type": "stream",
     "text": [
      "IOPub data rate exceeded.\n",
      "The Jupyter server will temporarily stop sending output\n",
      "to the client in order to avoid crashing it.\n",
      "To change this limit, set the config variable\n",
      "`--ServerApp.iopub_data_rate_limit`.\n",
      "\n",
      "Current values:\n",
      "ServerApp.iopub_data_rate_limit=1000000.0 (bytes/sec)\n",
      "ServerApp.rate_limit_window=3.0 (secs)\n",
      "\n"
     ]
    },
    {
     "data": {
      "application/vnd.jupyter.widget-view+json": {
       "model_id": "cb232106f81e4d2486de5e19c5266633",
       "version_major": 2,
       "version_minor": 0
      },
      "text/plain": [
       "Creating json from Arrow format:   0%|          | 0/25 [00:00<?, ?ba/s]"
      ]
     },
     "metadata": {},
     "output_type": "display_data"
    },
    {
     "name": "stdout",
     "output_type": "stream",
     "text": [
      "{'input': ' Current Player: {actions: Channel Divinity: Conquering Presence, Divine Smite, Extra Attack, Hexblades Curse (Heal), Harness Divine Power, Hex Warrior, Divine Sense, Lay on Hands, Lay on Hands (Cleanse), Hexblades Curse, Channel Divinity, Aura of Protection, Headwinds: Gust of Wind, Channel Divinity: Guided Strike, attacks: Bokuto, 2-Handed Bokuto, Dagger, Dagger2, Javelin, Moon-Touched Sword, Longsword, 2-Handed Moon-Touched Sword, Longsword, Unarmed Strike, class: Paladin 6/Warlock 1, controller_id: 425255192845774907, description: None, effects: , hp: <66/66 HP; Healthy>, name: Vexx Tempest, race: Mark of Storm Half-Elf, spells: Spiritual Weapon, Magic Weapon, Sacred Flame, Armor of Agathys, Bless, Guidance, Eldritch Blast, Divine Favor, Searing Smite, Shield, Feather Fall, Gust, Booming Blade, Lesser Restoration, Gust of Wind, Hex, Command, Shield of Faith, Hold Person}[SEP] \\nAvrae Command: ', 'output': '[!i cast hex -t Shiro][SEP]'}\n"
     ]
    },
    {
     "data": {
      "application/vnd.jupyter.widget-view+json": {
       "model_id": "5b2db49f1a0f4412890095fc639f4930",
       "version_major": 2,
       "version_minor": 0
      },
      "text/plain": [
       "Creating json from Arrow format:   0%|          | 0/25 [00:00<?, ?ba/s]"
      ]
     },
     "metadata": {},
     "output_type": "display_data"
    },
    {
     "name": "stdout",
     "output_type": "stream",
     "text": [
      "{'input': ' Current Player: {actions: None, attacks: Beak, Talons, class: None, controller_id: 981381483504357172, description: None, effects: buff, hp: <165/248 HP; Injured>, name: air monster, race: Roc, spells: }[SEP] \\nAvrae Command: ', 'output': '[!i a bite -t min][SEP]'}\n"
     ]
    }
   ],
   "source": [
    "#m4 current_player\n",
    "train_dataset = Dataset.from_pandas(train_data)\n",
    "train_dataset.to_json(\"data/fireball_train_m4.jsonl\")\n",
    "filename = \"data/fireball_train_m4.jsonl\"\n",
    "train_json_objs = convert_for_llamainstruct_finetuningM4(filename,\"data/fireball_train_finetuning_m4.jsonl\")\n",
    "print(train_json_objs)\n",
    "                                                         \n",
    "val_dataset = Dataset.from_pandas(validation_data)\n",
    "val_dataset.to_json(\"data/fireball_val_m4.jsonl\")\n",
    "valfilename = \"data/fireball_val_m4.jsonl\"\n",
    "val_json_objs = convert_for_llamainstruct_finetuningM4(valfilename,\"data/fireball_val_finetuning_m4.jsonl\")\n",
    "print(val_json_objs[0])\n",
    "\n",
    "test_dataset = Dataset.from_pandas(test_data)\n",
    "test_dataset.to_json(\"data/fireball_test_m4.jsonl\")\n",
    "testfilename = \"data/fireball_test_m4.jsonl\"\n",
    "test_json_objs = convert_for_llamainstruct_finetuningM4(testfilename,\"data/fireball_test_finetuning_m4.jsonl\")\n",
    "print(test_json_objs[0])"
   ]
  },
  {
   "cell_type": "code",
   "execution_count": 37,
   "id": "9ed89493-fcfc-4e8f-b768-e47e91a115e1",
   "metadata": {
    "tags": []
   },
   "outputs": [
    {
     "data": {
      "application/vnd.jupyter.widget-view+json": {
       "model_id": "e0c41b2a8847443e9a4cfe5d51458837",
       "version_major": 2,
       "version_minor": 0
      },
      "text/plain": [
       "Creating json from Arrow format:   0%|          | 0/73 [00:00<?, ?ba/s]"
      ]
     },
     "metadata": {},
     "output_type": "display_data"
    },
    {
     "name": "stderr",
     "output_type": "stream",
     "text": [
      "IOPub data rate exceeded.\n",
      "The Jupyter server will temporarily stop sending output\n",
      "to the client in order to avoid crashing it.\n",
      "To change this limit, set the config variable\n",
      "`--ServerApp.iopub_data_rate_limit`.\n",
      "\n",
      "Current values:\n",
      "ServerApp.iopub_data_rate_limit=1000000.0 (bytes/sec)\n",
      "ServerApp.rate_limit_window=3.0 (secs)\n",
      "\n"
     ]
    },
    {
     "data": {
      "application/vnd.jupyter.widget-view+json": {
       "model_id": "b585058d1fa74c52bcaa7ce7a5b59103",
       "version_major": 2,
       "version_minor": 0
      },
      "text/plain": [
       "Creating json from Arrow format:   0%|          | 0/25 [00:00<?, ?ba/s]"
      ]
     },
     "metadata": {},
     "output_type": "display_data"
    },
    {
     "name": "stdout",
     "output_type": "stream",
     "text": [
      "{'input': ' Utterances : [Shit did you do that?, .!i oc ba1 stealth , It looks like a normal, new book. The pages are written in normal ink.][SEP] \\nAvrae Command: ', 'output': '[!i cast hex -t Shiro][SEP]'}\n"
     ]
    },
    {
     "data": {
      "application/vnd.jupyter.widget-view+json": {
       "model_id": "9e95d36a061f467382fffbd1084b2936",
       "version_major": 2,
       "version_minor": 0
      },
      "text/plain": [
       "Creating json from Arrow format:   0%|          | 0/25 [00:00<?, ?ba/s]"
      ]
     },
     "metadata": {},
     "output_type": "display_data"
    },
    {
     "name": "stdout",
     "output_type": "stream",
     "text": [
      "{'input': ' Utterances : [Keeps shredding minion and will move 60ft up to be at 160total][SEP] \\nAvrae Command: ', 'output': '[!i a bite -t min][SEP]'}\n"
     ]
    }
   ],
   "source": [
    "#m5 before utterances\n",
    "train_dataset = Dataset.from_pandas(train_data)\n",
    "train_dataset.to_json(\"data/fireball_train_m5.jsonl\")\n",
    "filename = \"data/fireball_train_m5.jsonl\"\n",
    "train_json_objs = convert_for_llamainstruct_finetuningM5(filename,\"data/fireball_train_finetuning_m5.jsonl\")\n",
    "print(train_json_objs)\n",
    "                                                         \n",
    "val_dataset = Dataset.from_pandas(validation_data)\n",
    "val_dataset.to_json(\"data/fireball_val_m5.jsonl\")\n",
    "valfilename = \"data/fireball_val_m5.jsonl\"\n",
    "val_json_objs = convert_for_llamainstruct_finetuningM5(valfilename,\"data/fireball_val_finetuning_m5.jsonl\")\n",
    "print(val_json_objs[0])\n",
    "\n",
    "test_dataset = Dataset.from_pandas(test_data)\n",
    "test_dataset.to_json(\"data/fireball_test_m5.jsonl\")\n",
    "testfilename = \"data/fireball_test_m5.jsonl\"\n",
    "test_json_objs = convert_for_llamainstruct_finetuningM5(testfilename,\"data/fireball_test_finetuning_m5.jsonl\")\n",
    "print(test_json_objs[0])"
   ]
  },
  {
   "cell_type": "code",
   "execution_count": null,
   "id": "95cac7bf-95bc-4dc2-9f3a-734554f0345c",
   "metadata": {},
   "outputs": [],
   "source": []
  }
 ],
 "metadata": {
  "kernelspec": {
   "display_name": "Python 3 (ipykernel)",
   "language": "python",
   "name": "python3"
  },
  "language_info": {
   "codemirror_mode": {
    "name": "ipython",
    "version": 3
   },
   "file_extension": ".py",
   "mimetype": "text/x-python",
   "name": "python",
   "nbconvert_exporter": "python",
   "pygments_lexer": "ipython3",
   "version": "3.10.12"
  }
 },
 "nbformat": 4,
 "nbformat_minor": 5
}
